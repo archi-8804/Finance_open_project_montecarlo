{
  "nbformat": 4,
  "nbformat_minor": 0,
  "metadata": {
    "colab": {
      "provenance": [],
      "authorship_tag": "ABX9TyNUQ1z++uA0n1zOvNDU0E/n",
      "include_colab_link": true
    },
    "kernelspec": {
      "name": "python3",
      "display_name": "Python 3"
    },
    "language_info": {
      "name": "python"
    }
  },
  "cells": [
    {
      "cell_type": "markdown",
      "metadata": {
        "id": "view-in-github",
        "colab_type": "text"
      },
      "source": [
        "<a href=\"https://colab.research.google.com/github/archi-8804/Finance_open_project_montecarlo/blob/main/Finance_MCS_Project.ipynb\" target=\"_parent\"><img src=\"https://colab.research.google.com/assets/colab-badge.svg\" alt=\"Open In Colab\"/></a>"
      ]
    },
    {
      "cell_type": "markdown",
      "source": [
        "\n",
        "I have imported the 'yfinance' library to retrieve stock data from Yahoo Finance.\n",
        "\n",
        "Pathlib is a library that offers more modern and readable approach to file and for directory manipulation.\n",
        "\n",
        "Numpy helps to work with arrays, matrices and other mathematical operations.\n",
        "\n",
        "Pandas is a well known library used for data manipulation and analytics.\n",
        "\n",
        "Matplotlib is a comprehensive library used for creating visualisations and plots in Python."
      ],
      "metadata": {
        "id": "sCv4S1NNueys"
      }
    },
    {
      "cell_type": "code",
      "execution_count": null,
      "metadata": {
        "id": "F2FPkLtTTwq3"
      },
      "outputs": [],
      "source": [
        "#importing the necessary libraries\n",
        "import yfinance as yf\n",
        "import pathlib\n",
        "import numpy as np\n",
        "import pandas as pd\n",
        "import matplotlib.pyplot as plt"
      ]
    },
    {
      "cell_type": "markdown",
      "source": [
        "The stocks that I have chosen are:\n",
        "\n",
        "VBL.NS-VARUN BEVARAGES\n",
        "\n",
        "APLAPOLLO.NS-APL APOLLO\n",
        "\n",
        "NH.NS-NARAYANA HRUDAYALATA LIMITED\n",
        "\n",
        "INFY-INFOSYS\n",
        "\n",
        "HDFCBANK.NS-HDFC BANK\n",
        "\n",
        "VINATIORGA.NS-VINATI ORGANICS\n",
        "\n",
        "DIVISLAB.NS-DIVI'S LABS\n",
        "\n",
        "\n"
      ],
      "metadata": {
        "id": "ICGBBC7qwNNh"
      }
    },
    {
      "cell_type": "code",
      "source": [
        "symbols= ['VBL.NS','APLAPOLLO.NS','NH.NS','INFY','HDFCBANK.NS','VINATIORGA.NS','DIVISLAB.NS']\n",
        "number_of_stocks=len(symbols)\n",
        "\n",
        "symbols_1= ['APLAPOLLO.NS','INFY','HDFCBANK.NS','VINATIORGA.NS','DIVISLAB.NS']\n",
        "number_of_stocks_1=len(symbols_1)\n"
      ],
      "metadata": {
        "id": "8jslrP_iUinJ"
      },
      "execution_count": null,
      "outputs": []
    },
    {
      "cell_type": "markdown",
      "source": [
        "For 3 different time period i.e. 1year, 5 year and 10 year, I have created 3 dataframes."
      ],
      "metadata": {
        "id": "jdPjwE9fwn-Z"
      }
    },
    {
      "cell_type": "code",
      "source": [
        "all_data_1 = pd.DataFrame()\n",
        "all_data_2 = pd.DataFrame()\n",
        "all_data_3 = pd.DataFrame()\n",
        "all_data_4 = pd.DataFrame()\n",
        "all_data_5 = pd.DataFrame()"
      ],
      "metadata": {
        "id": "3OSgUThSUm3h"
      },
      "execution_count": null,
      "outputs": []
    },
    {
      "cell_type": "markdown",
      "source": [
        "**1 YEAR**\n",
        "\n",
        "\n",
        "\n"
      ],
      "metadata": {
        "id": "ZoNHVgHw9lH9"
      }
    },
    {
      "cell_type": "markdown",
      "source": [
        "In this I am retrieving the data for the stocks that I have listed above for a period of 1 year.\n",
        "I have added 1 more column named 'Symbol' that will help us to identify the data is related to which stock.\n",
        "Then I have conactenated the whole date frame into a new data frame."
      ],
      "metadata": {
        "id": "P72Jj942w0RR"
      }
    },
    {
      "cell_type": "code",
      "source": [
        "#1 year\n",
        "for symbol in symbols:\n",
        "    stock_data_1 = yf.download(symbol, start=\"2017-01-01\", end=\"2017-12-31\")\n",
        "    stock_data_1.reset_index(inplace=True)\n",
        "    stock_data_1['Symbol'] = symbol  # Add a 'Symbol' column with the stock symbol\n",
        "    all_data_1 = all_data_1.append(stock_data_1, ignore_index=True)"
      ],
      "metadata": {
        "colab": {
          "base_uri": "https://localhost:8080/"
        },
        "id": "cQa0_Ws5UpUL",
        "outputId": "4600ac78-5730-4931-b0b6-938290f99794"
      },
      "execution_count": null,
      "outputs": [
        {
          "output_type": "stream",
          "name": "stdout",
          "text": [
            "\r[*********************100%%**********************]  1 of 1 completed\n"
          ]
        },
        {
          "output_type": "stream",
          "name": "stderr",
          "text": [
            "<ipython-input-268-7dbd479dcc22>:6: FutureWarning: The frame.append method is deprecated and will be removed from pandas in a future version. Use pandas.concat instead.\n",
            "  all_data_1 = all_data_1.append(stock_data_1, ignore_index=True)\n"
          ]
        },
        {
          "output_type": "stream",
          "name": "stdout",
          "text": [
            "\r[*********************100%%**********************]  1 of 1 completed\n"
          ]
        },
        {
          "output_type": "stream",
          "name": "stderr",
          "text": [
            "<ipython-input-268-7dbd479dcc22>:6: FutureWarning: The frame.append method is deprecated and will be removed from pandas in a future version. Use pandas.concat instead.\n",
            "  all_data_1 = all_data_1.append(stock_data_1, ignore_index=True)\n"
          ]
        },
        {
          "output_type": "stream",
          "name": "stdout",
          "text": [
            "\r[*********************100%%**********************]  1 of 1 completed\n"
          ]
        },
        {
          "output_type": "stream",
          "name": "stderr",
          "text": [
            "<ipython-input-268-7dbd479dcc22>:6: FutureWarning: The frame.append method is deprecated and will be removed from pandas in a future version. Use pandas.concat instead.\n",
            "  all_data_1 = all_data_1.append(stock_data_1, ignore_index=True)\n"
          ]
        },
        {
          "output_type": "stream",
          "name": "stdout",
          "text": [
            "\r[*********************100%%**********************]  1 of 1 completed\n"
          ]
        },
        {
          "output_type": "stream",
          "name": "stderr",
          "text": [
            "<ipython-input-268-7dbd479dcc22>:6: FutureWarning: The frame.append method is deprecated and will be removed from pandas in a future version. Use pandas.concat instead.\n",
            "  all_data_1 = all_data_1.append(stock_data_1, ignore_index=True)\n"
          ]
        },
        {
          "output_type": "stream",
          "name": "stdout",
          "text": [
            "\r[*********************100%%**********************]  1 of 1 completed\n"
          ]
        },
        {
          "output_type": "stream",
          "name": "stderr",
          "text": [
            "<ipython-input-268-7dbd479dcc22>:6: FutureWarning: The frame.append method is deprecated and will be removed from pandas in a future version. Use pandas.concat instead.\n",
            "  all_data_1 = all_data_1.append(stock_data_1, ignore_index=True)\n"
          ]
        },
        {
          "output_type": "stream",
          "name": "stdout",
          "text": [
            "\r[*********************100%%**********************]  1 of 1 completed\n"
          ]
        },
        {
          "output_type": "stream",
          "name": "stderr",
          "text": [
            "<ipython-input-268-7dbd479dcc22>:6: FutureWarning: The frame.append method is deprecated and will be removed from pandas in a future version. Use pandas.concat instead.\n",
            "  all_data_1 = all_data_1.append(stock_data_1, ignore_index=True)\n"
          ]
        },
        {
          "output_type": "stream",
          "name": "stdout",
          "text": [
            "\r[*********************100%%**********************]  1 of 1 completed\n"
          ]
        },
        {
          "output_type": "stream",
          "name": "stderr",
          "text": [
            "<ipython-input-268-7dbd479dcc22>:6: FutureWarning: The frame.append method is deprecated and will be removed from pandas in a future version. Use pandas.concat instead.\n",
            "  all_data_1 = all_data_1.append(stock_data_1, ignore_index=True)\n"
          ]
        }
      ]
    },
    {
      "cell_type": "code",
      "source": [
        "print(stock_data_1.head())\n",
        "print(stock_data_1.shape)\n"
      ],
      "metadata": {
        "colab": {
          "base_uri": "https://localhost:8080/"
        },
        "id": "-DbGyaVU84gX",
        "outputId": "43e441e5-cd3f-46f6-e1a9-78addfbeabad"
      },
      "execution_count": null,
      "outputs": [
        {
          "output_type": "stream",
          "name": "stdout",
          "text": [
            "        Date        Open        High         Low       Close   Adj Close  \\\n",
            "0 2017-01-02  794.799988  803.849976  783.799988  797.849976  753.628601   \n",
            "1 2017-01-03  801.000000  811.450012  773.650024  777.849976  734.737122   \n",
            "2 2017-01-04  781.400024  784.799988  748.599976  752.299988  710.603210   \n",
            "3 2017-01-05  760.000000  772.000000  752.200012  764.000000  721.654785   \n",
            "4 2017-01-06  764.000000  770.000000  735.200012  737.400024  696.529114   \n",
            "\n",
            "    Volume       Symbol  \n",
            "0  2246725  DIVISLAB.NS  \n",
            "1  2244443  DIVISLAB.NS  \n",
            "2  3592668  DIVISLAB.NS  \n",
            "3  2766188  DIVISLAB.NS  \n",
            "4  3469778  DIVISLAB.NS  \n",
            "(248, 8)\n"
          ]
        }
      ]
    },
    {
      "cell_type": "code",
      "source": [
        "print(all_data_1.head())"
      ],
      "metadata": {
        "colab": {
          "base_uri": "https://localhost:8080/"
        },
        "id": "1c13DYZo84kx",
        "outputId": "64ab1fad-605f-484b-aff6-e6917d666bc4"
      },
      "execution_count": null,
      "outputs": [
        {
          "output_type": "stream",
          "name": "stdout",
          "text": [
            "        Date       Open       High        Low      Close  Adj Close  Volume  \\\n",
            "0 2017-01-02  57.185184  59.259258  56.451851  59.148148  56.541481  100683   \n",
            "1 2017-01-03  60.903702  62.148148  60.444443  60.814816  58.134712  420403   \n",
            "2 2017-01-04  61.762962  61.925926  60.000000  61.511112  58.800316  195237   \n",
            "3 2017-01-05  61.711109  62.192593  60.903702  61.896297  59.168530  182857   \n",
            "4 2017-01-06  61.896297  62.037037  60.755554  61.170368  58.474594  123653   \n",
            "\n",
            "   Symbol  \n",
            "0  VBL.NS  \n",
            "1  VBL.NS  \n",
            "2  VBL.NS  \n",
            "3  VBL.NS  \n",
            "4  VBL.NS  \n"
          ]
        }
      ]
    },
    {
      "cell_type": "markdown",
      "source": [
        "The below cell is to check if there are any null values or not."
      ],
      "metadata": {
        "id": "A9W0UVLFyMJh"
      }
    },
    {
      "cell_type": "code",
      "source": [
        "null_values = all_data_1.isna()\n",
        "print(null_values)\n"
      ],
      "metadata": {
        "colab": {
          "base_uri": "https://localhost:8080/"
        },
        "id": "IzyZD64h84on",
        "outputId": "d92973e2-a76f-4182-cce4-57375da41be1"
      },
      "execution_count": null,
      "outputs": [
        {
          "output_type": "stream",
          "name": "stdout",
          "text": [
            "       Date   Open   High    Low  Close  Adj Close  Volume  Symbol\n",
            "0     False  False  False  False  False      False   False   False\n",
            "1     False  False  False  False  False      False   False   False\n",
            "2     False  False  False  False  False      False   False   False\n",
            "3     False  False  False  False  False      False   False   False\n",
            "4     False  False  False  False  False      False   False   False\n",
            "...     ...    ...    ...    ...    ...        ...     ...     ...\n",
            "1734  False  False  False  False  False      False   False   False\n",
            "1735  False  False  False  False  False      False   False   False\n",
            "1736  False  False  False  False  False      False   False   False\n",
            "1737  False  False  False  False  False      False   False   False\n",
            "1738  False  False  False  False  False      False   False   False\n",
            "\n",
            "[1739 rows x 8 columns]\n"
          ]
        }
      ]
    },
    {
      "cell_type": "markdown",
      "source": [
        "The first line means that the dataframe is only retaining the 3 columns 'Date','Symbol' and 'Adj Close'.\n",
        "\n",
        "The second line shows that it is reshaping the dataframe using pivot method in which index parameter has been set to 'Date', column parameter as 'Symbol' and values parameter as 'Adj Close'."
      ],
      "metadata": {
        "id": "ihf-nXVryTud"
      }
    },
    {
      "cell_type": "code",
      "source": [
        "all_data_1=all_data_1[['Date', 'Symbol', 'Adj Close']]\n",
        "all_data_1 = all_data_1.pivot(\n",
        "    index='Date',\n",
        "    columns='Symbol',\n",
        "    values='Adj Close'\n",
        ")\n",
        "print(all_data_1.tail())"
      ],
      "metadata": {
        "colab": {
          "base_uri": "https://localhost:8080/"
        },
        "id": "i-viVjRW84sI",
        "outputId": "35840f81-adba-42f0-c474-7cd8e609d48a"
      },
      "execution_count": null,
      "outputs": [
        {
          "output_type": "stream",
          "name": "stdout",
          "text": [
            "Symbol      APLAPOLLO.NS  DIVISLAB.NS  HDFCBANK.NS      INFY       NH.NS  \\\n",
            "Date                                                                       \n",
            "2017-12-22    191.114975  1041.509155   899.670898  6.863893  293.786530   \n",
            "2017-12-26    195.453751  1039.263794   895.691895  6.910789  295.318695   \n",
            "2017-12-27    192.673248  1073.520630   890.130859  6.897999  295.022156   \n",
            "2017-12-28    192.887497  1064.729248   900.342102  6.889471  295.516388   \n",
            "2017-12-29    193.199142  1049.536133   897.633423  6.915052  294.824432   \n",
            "\n",
            "Symbol         VBL.NS  VINATIORGA.NS  \n",
            "Date                                  \n",
            "2017-12-22  82.037842     498.131531  \n",
            "2017-12-26  83.196243     492.619263  \n",
            "2017-12-27  84.497620     483.456360  \n",
            "2017-12-28  90.539810     481.836517  \n",
            "2017-12-29  93.421478     482.513519  \n"
          ]
        }
      ]
    },
    {
      "cell_type": "code",
      "source": [
        "null_values = all_data_1.isna()\n",
        "print(null_values)"
      ],
      "metadata": {
        "colab": {
          "base_uri": "https://localhost:8080/"
        },
        "id": "UzFN3Vhx84us",
        "outputId": "b6258ae6-bda6-4724-9be7-4dde9e3638e4"
      },
      "execution_count": null,
      "outputs": [
        {
          "output_type": "stream",
          "name": "stdout",
          "text": [
            "Symbol      APLAPOLLO.NS  DIVISLAB.NS  HDFCBANK.NS   INFY  NH.NS  VBL.NS  \\\n",
            "Date                                                                       \n",
            "2017-01-02         False        False        False   True  False   False   \n",
            "2017-01-03         False        False        False  False  False   False   \n",
            "2017-01-04         False        False        False  False  False   False   \n",
            "2017-01-05         False        False        False  False  False   False   \n",
            "2017-01-06         False        False        False  False  False   False   \n",
            "...                  ...          ...          ...    ...    ...     ...   \n",
            "2017-12-22         False        False        False  False  False   False   \n",
            "2017-12-26         False        False        False  False  False   False   \n",
            "2017-12-27         False        False        False  False  False   False   \n",
            "2017-12-28         False        False        False  False  False   False   \n",
            "2017-12-29         False        False        False  False  False   False   \n",
            "\n",
            "Symbol      VINATIORGA.NS  \n",
            "Date                       \n",
            "2017-01-02          False  \n",
            "2017-01-03          False  \n",
            "2017-01-04          False  \n",
            "2017-01-05          False  \n",
            "2017-01-06          False  \n",
            "...                   ...  \n",
            "2017-12-22          False  \n",
            "2017-12-26          False  \n",
            "2017-12-27          False  \n",
            "2017-12-28          False  \n",
            "2017-12-29          False  \n",
            "\n",
            "[258 rows x 7 columns]\n"
          ]
        }
      ]
    },
    {
      "cell_type": "code",
      "source": [
        "print(all_data_1.head())\n",
        "print(all_data_1.shape)"
      ],
      "metadata": {
        "colab": {
          "base_uri": "https://localhost:8080/"
        },
        "id": "AwI3Mk0684xP",
        "outputId": "ba962700-7c4f-4685-c7fd-363f5005a1cd"
      },
      "execution_count": null,
      "outputs": [
        {
          "output_type": "stream",
          "name": "stdout",
          "text": [
            "Symbol      APLAPOLLO.NS  DIVISLAB.NS  HDFCBANK.NS      INFY       NH.NS  \\\n",
            "Date                                                                       \n",
            "2017-01-02     88.984337   753.628601   570.104675       NaN  340.394958   \n",
            "2017-01-03     89.511658   734.737122   566.675903  6.107085  335.551270   \n",
            "2017-01-04     90.900055   710.603210   564.580383  6.268671  331.053497   \n",
            "2017-01-05     91.132278   721.654785   564.913818  6.223096  335.748901   \n",
            "2017-01-06     92.215904   696.529114   568.461731  6.140231  335.748901   \n",
            "\n",
            "Symbol         VBL.NS  VINATIORGA.NS  \n",
            "Date                                  \n",
            "2017-01-02  56.541481     288.261902  \n",
            "2017-01-03  58.134712     288.261902  \n",
            "2017-01-04  58.800316     287.464417  \n",
            "2017-01-05  59.168530     303.099091  \n",
            "2017-01-06  58.474594     302.736603  \n",
            "(258, 7)\n"
          ]
        }
      ]
    },
    {
      "cell_type": "code",
      "source": [
        "#1 stimulation before monte carlo stimulation\n",
        "# Calculate the Log of returns\n",
        "#pct.change=The formula used is: (current_element - prior_element) / prior_element * 100.\n",
        "log_return = np.log(1 + all_data_1.pct_change())\n",
        "\n",
        "# Generating Random Weights\n",
        "random_weights = np.array(np.random.random(number_of_stocks))\n",
        "\n",
        "# Generate the Rebalance Weights as the sum must equal 1.\n",
        "rebalance_weights = random_weights / np.sum(random_weights)\n",
        "\n",
        "\n",
        "#1 stimulation before monte carlo stimulation\n",
        "\n",
        "# Calculate the Expected Returns, annualize it by multiplying it by 252(We have multiplied by 252 to convert daily returns to annual returns).\n",
        "exp_ret = np.sum((log_return.mean() * rebalance_weights) * 252)\n",
        "\n",
        "# Calculate the Expected Volatility, annualize it by multiplying it by `252`.\n",
        "#this code calculates the expected volatility of a portfolio by taking into account the covariance of asset returns and the weights of assets in the portfolio. It is a common calculation used in portfolio management and risk analysis to estimate how much the portfolio's returns are expected to fluctuate over time.\n",
        "exp_vol = np.sqrt(\n",
        "np.dot(\n",
        "    rebalance_weights.T,\n",
        "    np.dot(\n",
        "        log_return.cov() * 252,\n",
        "        rebalance_weights\n",
        "    )\n",
        ")\n",
        ")\n",
        "\n",
        "# Calculate the Sharpe Ratio.\n",
        "sharpe_ratio = exp_ret / exp_vol\n",
        "\n",
        "# Put the weights into a data frame to see them better.\n",
        "weights_df = pd.DataFrame(data={\n",
        "'random_weights': random_weights,\n",
        "'rebalance_weights': rebalance_weights\n",
        "})\n",
        "print('')\n",
        "print('='*80)\n",
        "print('PORTFOLIO WEIGHTS:')\n",
        "print('-'*80)\n",
        "print(weights_df)\n",
        "print('-'*80)\n",
        "\n",
        "# Do the same with the other metrics.\n",
        "metrics_df = pd.DataFrame(data={\n",
        "    'Expected Portfolio Returns': exp_ret,\n",
        "    'Expected Portfolio Volatility': exp_vol,\n",
        "    'Portfolio Sharpe Ratio': sharpe_ratio\n",
        "}, index=[0])\n",
        "\n",
        "print('')\n",
        "print('='*80)\n",
        "print('PORTFOLIO METRICS:')\n",
        "print('-'*80)\n",
        "print(metrics_df)\n",
        "print('-'*80)\n"
      ],
      "metadata": {
        "colab": {
          "base_uri": "https://localhost:8080/"
        },
        "id": "CHWdCcfp843A",
        "outputId": "49b336ae-98e4-4039-bcf6-fba16f29ae61"
      },
      "execution_count": null,
      "outputs": [
        {
          "output_type": "stream",
          "name": "stdout",
          "text": [
            "\n",
            "================================================================================\n",
            "PORTFOLIO WEIGHTS:\n",
            "--------------------------------------------------------------------------------\n",
            "   random_weights  rebalance_weights\n",
            "0        0.279243           0.074512\n",
            "1        0.341120           0.091023\n",
            "2        0.406839           0.108559\n",
            "3        0.831398           0.221847\n",
            "4        0.259053           0.069125\n",
            "5        0.991513           0.264571\n",
            "6        0.638454           0.170362\n",
            "--------------------------------------------------------------------------------\n",
            "\n",
            "================================================================================\n",
            "PORTFOLIO METRICS:\n",
            "--------------------------------------------------------------------------------\n",
            "   Expected Portfolio Returns  Expected Portfolio Volatility  \\\n",
            "0                    0.368238                       0.120266   \n",
            "\n",
            "   Portfolio Sharpe Ratio  \n",
            "0                3.061862  \n",
            "--------------------------------------------------------------------------------\n"
          ]
        }
      ]
    },
    {
      "cell_type": "code",
      "source": [
        "# Initialize the components, to run a Monte Carlo Simulation.\n",
        "\n",
        "# We will run 10000 iterations.\n",
        "num_of_portfolios = 10000\n",
        "\n",
        "# Prepare an array to store the weights as they are generated, 10000 iterations for each of our 7 symbols.\n",
        "all_weights = np.zeros((num_of_portfolios, number_of_stocks))\n",
        "\n",
        "# Prep an array to store the returns as they are generated(10000 possible return values).\n",
        "ret_arr = np.zeros(num_of_portfolios)\n",
        "\n",
        "# Prep an array to store the volatilities as they are generated(10000 possible volatility values).\n",
        "vol_arr = np.zeros(num_of_portfolios)\n",
        "\n",
        "# Prep an array to store the sharpe ratios as they are generated(10000 possible Sharpe Ratios).\n",
        "sharpe_arr = np.zeros(num_of_portfolios)\n",
        "\n",
        "# Start the simulations.\n",
        "for ind in range(num_of_portfolios):\n",
        "\n",
        "    # First, calculate the weights.\n",
        "    weights = np.array(np.random.random(number_of_stocks))\n",
        "    weights = weights / np.sum(weights)\n",
        "\n",
        "    # Add the weights, to the `weights_arrays`.\n",
        "    all_weights[ind, :] = weights\n",
        "\n",
        "    # Calculate the expected log returns, and add them to the `returns_array`.\n",
        "    ret_arr[ind] = np.sum((log_return.mean() * weights) * 252)\n",
        "\n",
        "    # Calculate the volatility, and add them to the `volatility_array`.\n",
        "    vol_arr[ind] = np.sqrt(\n",
        "        np.dot(weights.T, np.dot(log_return.cov() * 252, weights))\n",
        "    )\n",
        "\n",
        "    # Calculate the Sharpe Ratio and Add it to the `sharpe_ratio_array`.\n",
        "    sharpe_arr[ind] = ret_arr[ind]/vol_arr[ind]\n",
        "\n",
        "# Let's create our \"Master Data Frame\", with the weights, the returns, the volatility, and the Sharpe Ratio\n",
        "simulations_data = [ret_arr, vol_arr, sharpe_arr, all_weights]\n",
        "\n",
        "# Create a DataFrame from it, then Transpose it so it looks like our original one.\n",
        "simulations_df = pd.DataFrame(data=simulations_data).T\n",
        "\n",
        "# Volatility is same as Standard Deviation\n",
        "simulations_df.columns = [\n",
        "    'Returns',\n",
        "    'Volatility',\n",
        "    'Sharpe Ratio',\n",
        "    'Portfolio Weights'\n",
        "]\n",
        "\n",
        "#To Make sure the data types are correct\n",
        "simulations_df = simulations_df.infer_objects()\n",
        "\n",
        "# Print out the results.\n",
        "print('')\n",
        "print('='*80)\n",
        "print('SIMULATIONS RESULT:')\n",
        "print('-'*80)\n",
        "print(simulations_df.head())\n",
        "print('-'*80)"
      ],
      "metadata": {
        "colab": {
          "base_uri": "https://localhost:8080/"
        },
        "id": "phVUzXsv848U",
        "outputId": "1a59595d-d526-4897-9029-8064d2dcaeee"
      },
      "execution_count": null,
      "outputs": [
        {
          "output_type": "stream",
          "name": "stdout",
          "text": [
            "\n",
            "================================================================================\n",
            "SIMULATIONS RESULT:\n",
            "--------------------------------------------------------------------------------\n",
            "    Returns  Volatility  Sharpe Ratio  \\\n",
            "0  0.535588    0.169255      3.164389   \n",
            "1  0.401452    0.116114      3.457382   \n",
            "2  0.267333    0.116449      2.295715   \n",
            "3  0.447795    0.127254      3.518897   \n",
            "4  0.298270    0.121079      2.463442   \n",
            "\n",
            "                                   Portfolio Weights  \n",
            "0  [0.37038935932913475, 0.021957883246350975, 0....  \n",
            "1  [0.1547773456796035, 0.0962723168493413, 0.240...  \n",
            "2  [0.11013474617390773, 0.019012160294471787, 0....  \n",
            "3  [0.19598433328977513, 0.11261372423719443, 0.2...  \n",
            "4  [0.04075331943571227, 0.16538740810746838, 0.1...  \n",
            "--------------------------------------------------------------------------------\n"
          ]
        }
      ]
    },
    {
      "cell_type": "code",
      "source": [
        "# Return the Max Sharpe Ratio from the run.\n",
        "max_sharpe_ratio = simulations_df.loc[simulations_df['Sharpe Ratio'].idxmax()]\n",
        "\n",
        "# Return the Min Volatility from the run.\n",
        "min_volatility = simulations_df.loc[simulations_df['Volatility'].idxmin()]\n",
        "\n",
        "print('')\n",
        "print('='*80)\n",
        "print('MAX SHARPE RATIO:')\n",
        "print('-'*80)\n",
        "print(max_sharpe_ratio)\n",
        "print('-'*80)\n",
        "\n",
        "print('')\n",
        "print('='*80)\n",
        "print('MIN VOLATILITY:')\n",
        "print('-'*80)\n",
        "print(min_volatility)\n",
        "print('-'*80)"
      ],
      "metadata": {
        "colab": {
          "base_uri": "https://localhost:8080/"
        },
        "id": "dBabn5FS84_r",
        "outputId": "4294a68c-be44-4d83-9b21-11bfde830e4f"
      },
      "execution_count": null,
      "outputs": [
        {
          "output_type": "stream",
          "name": "stdout",
          "text": [
            "\n",
            "================================================================================\n",
            "MAX SHARPE RATIO:\n",
            "--------------------------------------------------------------------------------\n",
            "Returns                                                       0.473714\n",
            "Volatility                                                    0.112886\n",
            "Sharpe Ratio                                                  4.196389\n",
            "Portfolio Weights    [0.24078234303685492, 0.022025380312102414, 0....\n",
            "Name: 1495, dtype: object\n",
            "--------------------------------------------------------------------------------\n",
            "\n",
            "================================================================================\n",
            "MIN VOLATILITY:\n",
            "--------------------------------------------------------------------------------\n",
            "Returns                                                       0.300707\n",
            "Volatility                                                    0.094097\n",
            "Sharpe Ratio                                                  3.195722\n",
            "Portfolio Weights    [0.04590844993240835, 0.0487729056066174, 0.30...\n",
            "Name: 5650, dtype: object\n",
            "--------------------------------------------------------------------------------\n"
          ]
        }
      ]
    },
    {
      "cell_type": "code",
      "source": [],
      "metadata": {
        "id": "nX7VHk-pGXJS"
      },
      "execution_count": null,
      "outputs": []
    },
    {
      "cell_type": "code",
      "source": [
        "%matplotlib inline\n",
        "\n",
        "# Plot the data on a Scatter plot.\n",
        "plt.scatter(\n",
        "    y=simulations_df['Returns'],\n",
        "    x=simulations_df['Volatility'],\n",
        "    c=simulations_df['Sharpe Ratio'],\n",
        "    cmap='RdYlBu'\n",
        ")\n",
        "\n",
        "# Give the Plot some labels, and titles.\n",
        "plt.title('Portfolio Returns Vs. Risk')\n",
        "plt.colorbar(label='Sharpe Ratio')\n",
        "plt.xlabel('Standard Deviation')\n",
        "plt.ylabel('Returns')\n",
        "\n",
        "# Plot the Max Sharpe Ratio, using a `Red Star`.\n",
        "plt.scatter(\n",
        "    max_sharpe_ratio[1],\n",
        "    max_sharpe_ratio[0],\n",
        "    marker=(5, 1, 0),\n",
        "    color='r',\n",
        "    s=600\n",
        ")\n",
        "\n",
        "# Plot the Min Volatility, using a `Blue Star`.\n",
        "plt.scatter(\n",
        "    min_volatility[1],\n",
        "    min_volatility[0],\n",
        "    marker=(5, 1, 0),\n",
        "    color='b',\n",
        "    s=600\n",
        ")\n",
        "\n",
        "# Finally, show the plot.\n",
        "plt.show()"
      ],
      "metadata": {
        "colab": {
          "base_uri": "https://localhost:8080/",
          "height": 472
        },
        "id": "Tt3nJFJm85CN",
        "outputId": "b6ee2e0a-dc9e-4161-bab2-f6464fffbdc1"
      },
      "execution_count": null,
      "outputs": [
        {
          "output_type": "display_data",
          "data": {
            "text/plain": [
              "<Figure size 640x480 with 2 Axes>"
            ],
            "image/png": "[encoded data removed]"
          },
          "metadata": {}
        }
      ]
    },
    {
      "cell_type": "code",
      "source": [],
      "metadata": {
        "id": "q7QcVUNJ9fDI"
      },
      "execution_count": null,
      "outputs": []
    },
    {
      "cell_type": "code",
      "source": [],
      "metadata": {
        "id": "JjZfrEeT9fGL"
      },
      "execution_count": null,
      "outputs": []
    },
    {
      "cell_type": "code",
      "source": [],
      "metadata": {
        "id": "X2hn5get85FA"
      },
      "execution_count": null,
      "outputs": []
    },
    {
      "cell_type": "markdown",
      "source": [
        "**5 YEAR**"
      ],
      "metadata": {
        "id": "TRBI61Qi92ic"
      }
    },
    {
      "cell_type": "code",
      "source": [
        "for symbol in symbols:\n",
        "    stock_data_2 = yf.download(symbol, start=\"2017-01-01\", end=\"2021-12-31\")\n",
        "    stock_data_2.reset_index(inplace=True)\n",
        "    stock_data_2['Symbol'] = symbol  # Add a 'Symbol' column with the stock symbol\n",
        "    all_data_2 = all_data_2.append(stock_data_2, ignore_index=True)"
      ],
      "metadata": {
        "colab": {
          "base_uri": "https://localhost:8080/"
        },
        "id": "n1J2EELg7qNi",
        "outputId": "12bc4055-d885-45c3-874d-12e551bbb012"
      },
      "execution_count": null,
      "outputs": [
        {
          "output_type": "stream",
          "name": "stdout",
          "text": [
            "\r[*********************100%%**********************]  1 of 1 completed\n"
          ]
        },
        {
          "output_type": "stream",
          "name": "stderr",
          "text": [
            "<ipython-input-279-1cd9464993c4>:5: FutureWarning: The frame.append method is deprecated and will be removed from pandas in a future version. Use pandas.concat instead.\n",
            "  all_data_2 = all_data_2.append(stock_data_2, ignore_index=True)\n"
          ]
        },
        {
          "output_type": "stream",
          "name": "stdout",
          "text": [
            "\r[*********************100%%**********************]  1 of 1 completed\n"
          ]
        },
        {
          "output_type": "stream",
          "name": "stderr",
          "text": [
            "<ipython-input-279-1cd9464993c4>:5: FutureWarning: The frame.append method is deprecated and will be removed from pandas in a future version. Use pandas.concat instead.\n",
            "  all_data_2 = all_data_2.append(stock_data_2, ignore_index=True)\n"
          ]
        },
        {
          "output_type": "stream",
          "name": "stdout",
          "text": [
            "\r[*********************100%%**********************]  1 of 1 completed\n"
          ]
        },
        {
          "output_type": "stream",
          "name": "stderr",
          "text": [
            "<ipython-input-279-1cd9464993c4>:5: FutureWarning: The frame.append method is deprecated and will be removed from pandas in a future version. Use pandas.concat instead.\n",
            "  all_data_2 = all_data_2.append(stock_data_2, ignore_index=True)\n"
          ]
        },
        {
          "output_type": "stream",
          "name": "stdout",
          "text": [
            "\r[*********************100%%**********************]  1 of 1 completed\n"
          ]
        },
        {
          "output_type": "stream",
          "name": "stderr",
          "text": [
            "<ipython-input-279-1cd9464993c4>:5: FutureWarning: The frame.append method is deprecated and will be removed from pandas in a future version. Use pandas.concat instead.\n",
            "  all_data_2 = all_data_2.append(stock_data_2, ignore_index=True)\n"
          ]
        },
        {
          "output_type": "stream",
          "name": "stdout",
          "text": [
            "\r[*********************100%%**********************]  1 of 1 completed\n"
          ]
        },
        {
          "output_type": "stream",
          "name": "stderr",
          "text": [
            "<ipython-input-279-1cd9464993c4>:5: FutureWarning: The frame.append method is deprecated and will be removed from pandas in a future version. Use pandas.concat instead.\n",
            "  all_data_2 = all_data_2.append(stock_data_2, ignore_index=True)\n"
          ]
        },
        {
          "output_type": "stream",
          "name": "stdout",
          "text": [
            "\r[*********************100%%**********************]  1 of 1 completed\n"
          ]
        },
        {
          "output_type": "stream",
          "name": "stderr",
          "text": [
            "<ipython-input-279-1cd9464993c4>:5: FutureWarning: The frame.append method is deprecated and will be removed from pandas in a future version. Use pandas.concat instead.\n",
            "  all_data_2 = all_data_2.append(stock_data_2, ignore_index=True)\n"
          ]
        },
        {
          "output_type": "stream",
          "name": "stdout",
          "text": [
            "\r[*********************100%%**********************]  1 of 1 completed\n"
          ]
        },
        {
          "output_type": "stream",
          "name": "stderr",
          "text": [
            "<ipython-input-279-1cd9464993c4>:5: FutureWarning: The frame.append method is deprecated and will be removed from pandas in a future version. Use pandas.concat instead.\n",
            "  all_data_2 = all_data_2.append(stock_data_2, ignore_index=True)\n"
          ]
        }
      ]
    },
    {
      "cell_type": "code",
      "source": [
        "print(stock_data_2.head())\n",
        "print(stock_data_2.shape)\n"
      ],
      "metadata": {
        "colab": {
          "base_uri": "https://localhost:8080/"
        },
        "id": "nCetWpYRDVNu",
        "outputId": "ba2776db-f420-494d-de7b-ed611beeb435"
      },
      "execution_count": null,
      "outputs": [
        {
          "output_type": "stream",
          "name": "stdout",
          "text": [
            "        Date        Open        High         Low       Close   Adj Close  \\\n",
            "0 2017-01-02  794.799988  803.849976  783.799988  797.849976  753.628601   \n",
            "1 2017-01-03  801.000000  811.450012  773.650024  777.849976  734.737061   \n",
            "2 2017-01-04  781.400024  784.799988  748.599976  752.299988  710.603210   \n",
            "3 2017-01-05  760.000000  772.000000  752.200012  764.000000  721.654785   \n",
            "4 2017-01-06  764.000000  770.000000  735.200012  737.400024  696.529053   \n",
            "\n",
            "    Volume       Symbol  \n",
            "0  2246725  DIVISLAB.NS  \n",
            "1  2244443  DIVISLAB.NS  \n",
            "2  3592668  DIVISLAB.NS  \n",
            "3  2766188  DIVISLAB.NS  \n",
            "4  3469778  DIVISLAB.NS  \n",
            "(1235, 8)\n"
          ]
        }
      ]
    },
    {
      "cell_type": "code",
      "source": [
        "print(all_data_2.head())"
      ],
      "metadata": {
        "colab": {
          "base_uri": "https://localhost:8080/"
        },
        "id": "eVkcjaPkDVYr",
        "outputId": "06b8e4a4-d98d-4a90-9828-508b686a02b3"
      },
      "execution_count": null,
      "outputs": [
        {
          "output_type": "stream",
          "name": "stdout",
          "text": [
            "        Date       Open       High        Low      Close  Adj Close  Volume  \\\n",
            "0 2017-01-02  57.185184  59.259258  56.451851  59.148148  56.541485  100683   \n",
            "1 2017-01-03  60.903702  62.148148  60.444443  60.814816  58.134712  420403   \n",
            "2 2017-01-04  61.762962  61.925926  60.000000  61.511112  58.800316  195237   \n",
            "3 2017-01-05  61.711109  62.192593  60.903702  61.896297  59.168526  182857   \n",
            "4 2017-01-06  61.896297  62.037037  60.755554  61.170368  58.474586  123653   \n",
            "\n",
            "   Symbol  \n",
            "0  VBL.NS  \n",
            "1  VBL.NS  \n",
            "2  VBL.NS  \n",
            "3  VBL.NS  \n",
            "4  VBL.NS  \n"
          ]
        }
      ]
    },
    {
      "cell_type": "code",
      "source": [
        "all_data_2 = all_data_2[['Date', 'Symbol', 'Adj Close']]\n",
        "all_data_2 = all_data_2.pivot(\n",
        "    index='Date',\n",
        "    columns='Symbol',\n",
        "    values='Adj Close'\n",
        ")"
      ],
      "metadata": {
        "id": "Clieoum-DVbz"
      },
      "execution_count": null,
      "outputs": []
    },
    {
      "cell_type": "code",
      "source": [
        "print(all_data_2)"
      ],
      "metadata": {
        "colab": {
          "base_uri": "https://localhost:8080/"
        },
        "id": "NMI__MlyDVeN",
        "outputId": "1493d9b3-776d-46b0-eeb3-379519a1b45c"
      },
      "execution_count": null,
      "outputs": [
        {
          "output_type": "stream",
          "name": "stdout",
          "text": [
            "Symbol      APLAPOLLO.NS  DIVISLAB.NS  HDFCBANK.NS       INFY       NH.NS  \\\n",
            "Date                                                                        \n",
            "2017-01-02     88.984329   753.628601   570.104675        NaN  340.394958   \n",
            "2017-01-03     89.511650   734.737061   566.675781   6.107086  335.551239   \n",
            "2017-01-04     90.900063   710.603210   564.580322   6.268671  331.053497   \n",
            "2017-01-05     91.132271   721.654785   564.913757   6.223095  335.748932   \n",
            "2017-01-06     92.215919   696.529053   568.461731   6.140232  335.748932   \n",
            "...                  ...          ...          ...        ...         ...   \n",
            "2021-12-24   1002.067627  4378.113281  1406.235596        NaN  569.744934   \n",
            "2021-12-27    984.877991  4403.659668  1417.865601  24.135048  598.931946   \n",
            "2021-12-28    993.870239  4454.999023  1427.638428  24.106464  591.610352   \n",
            "2021-12-29    990.392578  4549.752930  1420.846191  24.182688  587.077881   \n",
            "2021-12-30    991.386169  4555.954102  1428.322510  24.211275  607.249756   \n",
            "\n",
            "Symbol          VBL.NS  VINATIORGA.NS  \n",
            "Date                                   \n",
            "2017-01-02   56.541485     288.261932  \n",
            "2017-01-03   58.134712     288.261932  \n",
            "2017-01-04   58.800316     287.464447  \n",
            "2017-01-05   59.168526     303.099091  \n",
            "2017-01-06   58.474586     302.736572  \n",
            "...                ...            ...  \n",
            "2021-12-24  277.608917    1904.475464  \n",
            "2021-12-27  282.751648    1897.124390  \n",
            "2021-12-28  287.662872    1941.677734  \n",
            "2021-12-29  292.904846    1951.114990  \n",
            "2021-12-30  284.851715    1950.817139  \n",
            "\n",
            "[1295 rows x 7 columns]\n"
          ]
        }
      ]
    },
    {
      "cell_type": "code",
      "source": [
        "null_values_2 = all_data_2.isna()\n",
        "#print(null_values_2)"
      ],
      "metadata": {
        "id": "RmTuEY6yUtxC"
      },
      "execution_count": null,
      "outputs": []
    },
    {
      "cell_type": "code",
      "source": [
        "null_values_2 = all_data_2.isna()\n",
        "print(null_values_2)"
      ],
      "metadata": {
        "colab": {
          "base_uri": "https://localhost:8080/"
        },
        "id": "yTX1y4ciGYzZ",
        "outputId": "5de71afb-cfcf-4820-f4ce-adda5faa0a02"
      },
      "execution_count": null,
      "outputs": [
        {
          "output_type": "stream",
          "name": "stdout",
          "text": [
            "Symbol      APLAPOLLO.NS  DIVISLAB.NS  HDFCBANK.NS   INFY  NH.NS  VBL.NS  \\\n",
            "Date                                                                       \n",
            "2017-01-02         False        False        False   True  False   False   \n",
            "2017-01-03         False        False        False  False  False   False   \n",
            "2017-01-04         False        False        False  False  False   False   \n",
            "2017-01-05         False        False        False  False  False   False   \n",
            "2017-01-06         False        False        False  False  False   False   \n",
            "...                  ...          ...          ...    ...    ...     ...   \n",
            "2021-12-24         False        False        False   True  False   False   \n",
            "2021-12-27         False        False        False  False  False   False   \n",
            "2021-12-28         False        False        False  False  False   False   \n",
            "2021-12-29         False        False        False  False  False   False   \n",
            "2021-12-30         False        False        False  False  False   False   \n",
            "\n",
            "Symbol      VINATIORGA.NS  \n",
            "Date                       \n",
            "2017-01-02          False  \n",
            "2017-01-03          False  \n",
            "2017-01-04          False  \n",
            "2017-01-05          False  \n",
            "2017-01-06          False  \n",
            "...                   ...  \n",
            "2021-12-24          False  \n",
            "2021-12-27          False  \n",
            "2021-12-28          False  \n",
            "2021-12-29          False  \n",
            "2021-12-30          False  \n",
            "\n",
            "[1295 rows x 7 columns]\n"
          ]
        }
      ]
    },
    {
      "cell_type": "code",
      "source": [
        "print(all_data_2.head())\n",
        "print(all_data_2.shape)"
      ],
      "metadata": {
        "colab": {
          "base_uri": "https://localhost:8080/"
        },
        "id": "xdO0-ZPvGY-q",
        "outputId": "0031c632-571a-4603-a11d-7a1b1d0df9b1"
      },
      "execution_count": null,
      "outputs": [
        {
          "output_type": "stream",
          "name": "stdout",
          "text": [
            "Symbol      APLAPOLLO.NS  DIVISLAB.NS  HDFCBANK.NS      INFY       NH.NS  \\\n",
            "Date                                                                       \n",
            "2017-01-02     88.984329   753.628601   570.104675       NaN  340.394958   \n",
            "2017-01-03     89.511650   734.737061   566.675781  6.107086  335.551239   \n",
            "2017-01-04     90.900063   710.603210   564.580322  6.268671  331.053497   \n",
            "2017-01-05     91.132271   721.654785   564.913757  6.223095  335.748932   \n",
            "2017-01-06     92.215919   696.529053   568.461731  6.140232  335.748932   \n",
            "\n",
            "Symbol         VBL.NS  VINATIORGA.NS  \n",
            "Date                                  \n",
            "2017-01-02  56.541485     288.261932  \n",
            "2017-01-03  58.134712     288.261932  \n",
            "2017-01-04  58.800316     287.464447  \n",
            "2017-01-05  59.168526     303.099091  \n",
            "2017-01-06  58.474586     302.736572  \n",
            "(1295, 7)\n"
          ]
        }
      ]
    },
    {
      "cell_type": "code",
      "source": [],
      "metadata": {
        "id": "yvr2HRUzGZFU"
      },
      "execution_count": null,
      "outputs": []
    },
    {
      "cell_type": "code",
      "source": [
        "log_return_2 = np.log(1 + all_data_2.pct_change())\n",
        "random_weights_2 = np.array(np.random.random(number_of_stocks))\n",
        "rebalance_weights_2 = random_weights_2 / np.sum(random_weights_2)\n",
        "\n",
        "# Calculate the Expected Returns, annualize it by multiplying it by the number of trading days in 5 years.\n",
        "exp_ret_2 = np.sum((log_return_2.mean() * rebalance_weights_2) * (5 * 252))\n",
        "\n",
        "# Calculate the Expected Volatility, annualize it by multiplying it by the number of trading days in 5 years.\n",
        "exp_vol_2 = np.sqrt(\n",
        "    np.dot(\n",
        "        rebalance_weights_2.T,\n",
        "        np.dot(\n",
        "            log_return_2.cov() * (5 * 252),\n",
        "            rebalance_weights_2\n",
        "        )\n",
        "    )\n",
        ")\n",
        "\n",
        "sharpe_ratio_2 = exp_ret_2 / exp_vol_2\n",
        "\n",
        "weights_df_2 = pd.DataFrame(data={\n",
        "    'random_weights': random_weights_2,\n",
        "    'rebalance_weights': rebalance_weights_2\n",
        "})\n",
        "\n",
        "print('')\n",
        "print('='*80)\n",
        "print('PORTFOLIO WEIGHTS:')\n",
        "print('-'*80)\n",
        "print(weights_df_2)\n",
        "print('-'*80)\n",
        "\n",
        "metrics_df_2 = pd.DataFrame(data={\n",
        "    'Expected Portfolio Returns': exp_ret_2,\n",
        "    'Expected Portfolio Volatility': exp_vol_2,\n",
        "    'Portfolio Sharpe Ratio': sharpe_ratio_2\n",
        "}, index=[0])\n",
        "\n",
        "\n",
        "print('')\n",
        "print('='*80)\n",
        "print('PORTFOLIO METRICS:')\n",
        "print('-'*80)\n",
        "print(metrics_df_2)\n",
        "print('-'*80)"
      ],
      "metadata": {
        "colab": {
          "base_uri": "https://localhost:8080/"
        },
        "id": "3ZWJzG-iUybg",
        "outputId": "270c8d89-e03c-4b15-e1d3-1736a2571b58"
      },
      "execution_count": null,
      "outputs": [
        {
          "output_type": "stream",
          "name": "stdout",
          "text": [
            "\n",
            "================================================================================\n",
            "PORTFOLIO WEIGHTS:\n",
            "--------------------------------------------------------------------------------\n",
            "   random_weights  rebalance_weights\n",
            "0        0.868842           0.204307\n",
            "1        0.067393           0.015847\n",
            "2        0.685338           0.161156\n",
            "3        0.501481           0.117922\n",
            "4        0.237916           0.055946\n",
            "5        0.929362           0.218538\n",
            "6        0.962298           0.226283\n",
            "--------------------------------------------------------------------------------\n",
            "\n",
            "================================================================================\n",
            "PORTFOLIO METRICS:\n",
            "--------------------------------------------------------------------------------\n",
            "   Expected Portfolio Returns  Expected Portfolio Volatility  \\\n",
            "0                    1.606673                       0.433512   \n",
            "\n",
            "   Portfolio Sharpe Ratio  \n",
            "0                3.706177  \n",
            "--------------------------------------------------------------------------------\n"
          ]
        }
      ]
    },
    {
      "cell_type": "code",
      "source": [],
      "metadata": {
        "id": "bOF1F43QGW2l"
      },
      "execution_count": null,
      "outputs": []
    },
    {
      "cell_type": "code",
      "source": [
        "num_of_portfolios = 10000\n",
        "all_weights_2 = np.zeros((num_of_portfolios, number_of_stocks))\n",
        "ret_arr_2 = np.zeros(num_of_portfolios)\n",
        "vol_arr_2 = np.zeros(num_of_portfolios)\n",
        "sharpe_arr_2 = np.zeros(num_of_portfolios)\n",
        "\n",
        "for ind in range(num_of_portfolios):\n",
        "    weights_2 = np.array(np.random.random(number_of_stocks))\n",
        "    weights_2 = weights_2 / np.sum(weights_2\n",
        "                              )\n",
        "    all_weights_2[ind, :] = weights_2\n",
        "    ret_arr_2[ind] = np.sum((log_return_2.mean() * weights_2) * (5 * 252))\n",
        "    vol_arr_2[ind] = np.sqrt(\n",
        "        np.dot(weights_2.T, np.dot(log_return_2.cov() * (5 * 252), weights_2))\n",
        "    )\n",
        "    sharpe_arr_2[ind] = ret_arr_2[ind] / vol_arr_2[ind]\n",
        "\n",
        "simulations_data_2 = [ret_arr_2, vol_arr_2, sharpe_arr_2, all_weights_2]\n",
        "\n",
        "simulations_df_2 = pd.DataFrame(data=simulations_data_2).T\n",
        "\n",
        "simulations_df_2.columns = [\n",
        "    'Returns',\n",
        "    'Volatility',\n",
        "    'Sharpe Ratio',\n",
        "    'Portfolio Weights'\n",
        "]\n",
        "\n",
        "simulations_df_2 = simulations_df_2.infer_objects()\n",
        "\n",
        "print('')\n",
        "print('='*80)\n",
        "print('SIMULATIONS RESULT:')\n",
        "print('-'*80)\n",
        "print(simulations_df_2.head())\n",
        "print('-'*80)\n",
        "\n"
      ],
      "metadata": {
        "colab": {
          "base_uri": "https://localhost:8080/"
        },
        "id": "Ptlw7bEJXdqZ",
        "outputId": "b587a187-ab20-4345-d892-fd1e7b1e328c"
      },
      "execution_count": null,
      "outputs": [
        {
          "output_type": "stream",
          "name": "stdout",
          "text": [
            "\n",
            "================================================================================\n",
            "SIMULATIONS RESULT:\n",
            "--------------------------------------------------------------------------------\n",
            "    Returns  Volatility  Sharpe Ratio  \\\n",
            "0  1.492263    0.387556      3.850447   \n",
            "1  1.359019    0.422587      3.215951   \n",
            "2  1.359492    0.411739      3.301829   \n",
            "3  1.409281    0.420036      3.355146   \n",
            "4  1.561265    0.398167      3.921128   \n",
            "\n",
            "                                   Portfolio Weights  \n",
            "0  [0.10626597353119115, 0.13809616291099763, 0.1...  \n",
            "1  [0.1933442623234634, 0.07318969061364763, 0.14...  \n",
            "2  [0.15800990965425166, 0.08740958979873972, 0.1...  \n",
            "3  [0.2057526511448191, 0.012547163598156228, 0.1...  \n",
            "4  [0.13331088241498243, 0.20962486154298654, 0.1...  \n",
            "--------------------------------------------------------------------------------\n"
          ]
        }
      ]
    },
    {
      "cell_type": "code",
      "source": [
        "max_sharpe_ratio_2 = simulations_df_2.loc[simulations_df_2['Sharpe Ratio'].idxmax()]\n",
        "min_volatility_2 = simulations_df_2.loc[simulations_df_2['Volatility'].idxmin()]\n",
        "\n",
        "print('')\n",
        "print('='*80)\n",
        "print('MAX SHARPE RATIO:')\n",
        "print('-'*80)\n",
        "print(max_sharpe_ratio_2)\n",
        "print('-'*80)\n",
        "\n",
        "print('')\n",
        "print('='*80)\n",
        "print('MIN VOLATILITY:')\n",
        "print('-'*80)\n",
        "print(min_volatility_2)\n",
        "print('-'*80)\n",
        "\n"
      ],
      "metadata": {
        "colab": {
          "base_uri": "https://localhost:8080/"
        },
        "id": "cW4PJGOaLc5H",
        "outputId": "baa16114-baf1-4afb-91ea-aab98396c7f3"
      },
      "execution_count": null,
      "outputs": [
        {
          "output_type": "stream",
          "name": "stdout",
          "text": [
            "\n",
            "================================================================================\n",
            "MAX SHARPE RATIO:\n",
            "--------------------------------------------------------------------------------\n",
            "Returns                                                        1.67472\n",
            "Volatility                                                     0.40913\n",
            "Sharpe Ratio                                                  4.093373\n",
            "Portfolio Weights    [0.14012620922206862, 0.23428281034039566, 0.0...\n",
            "Name: 9868, dtype: object\n",
            "--------------------------------------------------------------------------------\n",
            "\n",
            "================================================================================\n",
            "MIN VOLATILITY:\n",
            "--------------------------------------------------------------------------------\n",
            "Returns                                                       1.299882\n",
            "Volatility                                                    0.365916\n",
            "Sharpe Ratio                                                  3.552406\n",
            "Portfolio Weights    [0.0376331251455961, 0.16189417529639444, 0.24...\n",
            "Name: 9727, dtype: object\n",
            "--------------------------------------------------------------------------------\n"
          ]
        }
      ]
    },
    {
      "cell_type": "code",
      "source": [
        "%matplotlib inline\n",
        "plt.scatter(\n",
        "    y=simulations_df_2['Returns'],\n",
        "    x=simulations_df_2['Volatility'],\n",
        "    c=simulations_df_2['Sharpe Ratio'],\n",
        "    cmap='RdYlBu'\n",
        ")\n",
        "\n",
        "plt.title('Portfolio Returns Vs. Risk')\n",
        "plt.colorbar(label='Sharpe Ratio')\n",
        "plt.xlabel('Standard Deviation')\n",
        "plt.ylabel('Returns')\n",
        "\n",
        "plt.scatter(\n",
        "    max_sharpe_ratio_2[1],\n",
        "    max_sharpe_ratio_2[0],\n",
        "    marker=(5, 1, 0),\n",
        "    color='r',\n",
        "    s=600\n",
        ")\n",
        "\n",
        "plt.scatter(\n",
        "    min_volatility_2[1],\n",
        "    min_volatility_2[0],\n",
        "    marker=(5, 1, 0),\n",
        "    color='b',\n",
        "    s=600\n",
        ")\n",
        "\n",
        "plt.show()\n"
      ],
      "metadata": {
        "colab": {
          "base_uri": "https://localhost:8080/",
          "height": 472
        },
        "id": "ce_zUNksXt8N",
        "outputId": "18a04023-b0c4-41f2-f8b6-a8f6f7527972"
      },
      "execution_count": null,
      "outputs": [
        {
          "output_type": "display_data",
          "data": {
            "text/plain": [
              "<Figure size 640x480 with 2 Axes>"
            ],
            "image/png": "[encoded data removed]"
          },
          "metadata": {}
        }
      ]
    },
    {
      "cell_type": "code",
      "source": [],
      "metadata": {
        "id": "rNye5mQJ8Qe9"
      },
      "execution_count": null,
      "outputs": []
    },
    {
      "cell_type": "code",
      "source": [],
      "metadata": {
        "id": "l4oyvpEGZvBR"
      },
      "execution_count": null,
      "outputs": []
    },
    {
      "cell_type": "markdown",
      "source": [
        "**10 YEAR**"
      ],
      "metadata": {
        "id": "NzKrlkqW_NF7"
      }
    },
    {
      "cell_type": "markdown",
      "source": [
        "We have excluded varun bevarages and narayana hrudayalata ltd. from our analysis here as they were listed after the start date."
      ],
      "metadata": {
        "id": "LHhd374gYIpZ"
      }
    },
    {
      "cell_type": "code",
      "source": [
        "for symbol in symbols_1:\n",
        "    stock_data_3 = yf.download(symbol, start=\"2013-01-01\", end=\"2022-12-31\")\n",
        "    stock_data_3.reset_index(inplace=True)\n",
        "    stock_data_3['Symbol'] = symbol\n",
        "    all_data_3 = all_data_3.append(stock_data_3, ignore_index=True)"
      ],
      "metadata": {
        "colab": {
          "base_uri": "https://localhost:8080/"
        },
        "id": "C_PnYRTr_MMi",
        "outputId": "18f49fa4-d1b2-4ac5-dd3b-06731b37eefe"
      },
      "execution_count": null,
      "outputs": [
        {
          "output_type": "stream",
          "name": "stdout",
          "text": [
            "\r[*********************100%%**********************]  1 of 1 completed\n"
          ]
        },
        {
          "output_type": "stream",
          "name": "stderr",
          "text": [
            "<ipython-input-294-eac70e3f9e9e>:5: FutureWarning: The frame.append method is deprecated and will be removed from pandas in a future version. Use pandas.concat instead.\n",
            "  all_data_3 = all_data_3.append(stock_data_3, ignore_index=True)\n"
          ]
        },
        {
          "output_type": "stream",
          "name": "stdout",
          "text": [
            "\r[*********************100%%**********************]  1 of 1 completed\n"
          ]
        },
        {
          "output_type": "stream",
          "name": "stderr",
          "text": [
            "<ipython-input-294-eac70e3f9e9e>:5: FutureWarning: The frame.append method is deprecated and will be removed from pandas in a future version. Use pandas.concat instead.\n",
            "  all_data_3 = all_data_3.append(stock_data_3, ignore_index=True)\n"
          ]
        },
        {
          "output_type": "stream",
          "name": "stdout",
          "text": [
            "\r[*********************100%%**********************]  1 of 1 completed\n"
          ]
        },
        {
          "output_type": "stream",
          "name": "stderr",
          "text": [
            "<ipython-input-294-eac70e3f9e9e>:5: FutureWarning: The frame.append method is deprecated and will be removed from pandas in a future version. Use pandas.concat instead.\n",
            "  all_data_3 = all_data_3.append(stock_data_3, ignore_index=True)\n"
          ]
        },
        {
          "output_type": "stream",
          "name": "stdout",
          "text": [
            "\r[*********************100%%**********************]  1 of 1 completed\n"
          ]
        },
        {
          "output_type": "stream",
          "name": "stderr",
          "text": [
            "<ipython-input-294-eac70e3f9e9e>:5: FutureWarning: The frame.append method is deprecated and will be removed from pandas in a future version. Use pandas.concat instead.\n",
            "  all_data_3 = all_data_3.append(stock_data_3, ignore_index=True)\n"
          ]
        },
        {
          "output_type": "stream",
          "name": "stdout",
          "text": [
            "\r[*********************100%%**********************]  1 of 1 completed\n"
          ]
        },
        {
          "output_type": "stream",
          "name": "stderr",
          "text": [
            "<ipython-input-294-eac70e3f9e9e>:5: FutureWarning: The frame.append method is deprecated and will be removed from pandas in a future version. Use pandas.concat instead.\n",
            "  all_data_3 = all_data_3.append(stock_data_3, ignore_index=True)\n"
          ]
        }
      ]
    },
    {
      "cell_type": "code",
      "source": [
        "\n",
        "\n",
        "all_data_3 = all_data_3[['Date', 'Symbol', 'Adj Close']]\n",
        "all_data_3 = all_data_3.pivot(\n",
        "    index='Date',\n",
        "    columns='Symbol',\n",
        "    values='Adj Close'\n",
        ")"
      ],
      "metadata": {
        "id": "jbUR76Gc8Lwh"
      },
      "execution_count": null,
      "outputs": []
    },
    {
      "cell_type": "code",
      "source": [
        "#all_data_3 = all_data_3.fillna(all_data_3.mean())\n",
        "#all_data = all_data.fillna(0)"
      ],
      "metadata": {
        "id": "p25hj7-qaEXI"
      },
      "execution_count": null,
      "outputs": []
    },
    {
      "cell_type": "code",
      "source": [
        "null_values_3 = all_data_3.isna()\n",
        "print(null_values_3)"
      ],
      "metadata": {
        "colab": {
          "base_uri": "https://localhost:8080/"
        },
        "id": "dEI2RzRFQKRY",
        "outputId": "f73af5fb-70b3-4721-ca44-6850df2167f5"
      },
      "execution_count": null,
      "outputs": [
        {
          "output_type": "stream",
          "name": "stdout",
          "text": [
            "Symbol      APLAPOLLO.NS  DIVISLAB.NS  HDFCBANK.NS   INFY  VINATIORGA.NS\n",
            "Date                                                                    \n",
            "2013-01-01         False        False        False   True          False\n",
            "2013-01-02         False        False        False  False          False\n",
            "2013-01-03         False        False        False  False          False\n",
            "2013-01-04         False        False        False  False          False\n",
            "2013-01-07         False        False        False  False          False\n",
            "...                  ...          ...          ...    ...            ...\n",
            "2022-12-26         False        False        False   True          False\n",
            "2022-12-27         False        False        False  False          False\n",
            "2022-12-28         False        False        False  False          False\n",
            "2022-12-29         False        False        False  False          False\n",
            "2022-12-30         False        False        False  False          False\n",
            "\n",
            "[2591 rows x 5 columns]\n"
          ]
        }
      ]
    },
    {
      "cell_type": "code",
      "source": [],
      "metadata": {
        "id": "N9nI0G1KQKUn"
      },
      "execution_count": null,
      "outputs": []
    },
    {
      "cell_type": "code",
      "source": [
        "log_return_3 = np.log(1 + all_data_3.pct_change())\n",
        "random_weights_3 = np.array(np.random.random(number_of_stocks_1))\n",
        "rebalance_weights_3 = random_weights_3 / np.sum(random_weights_3)\n",
        "\n",
        "# Calculate the Expected Returns, annualize it by multiplying it by the number of trading days in 10 years.\n",
        "exp_ret_3 = np.sum((log_return_3.mean() * rebalance_weights_3) * (10 * 252))\n",
        "\n",
        "# Calculate the Expected Volatility, annualize it by multiplying it by the number of trading days in 10 years.\n",
        "exp_vol_3 = np.sqrt(\n",
        "    np.dot(\n",
        "        rebalance_weights_3.T,\n",
        "        np.dot(\n",
        "            log_return_3.cov() * (10 * 252),\n",
        "            rebalance_weights_3\n",
        "        )\n",
        "    )\n",
        ")\n",
        "\n",
        "sharpe_ratio_3 = exp_ret_3 / exp_vol_3\n",
        "\n",
        "weights_df_3 = pd.DataFrame(data={\n",
        "    'random_weights': random_weights_3,\n",
        "    'rebalance_weights': rebalance_weights_3\n",
        "})\n",
        "\n",
        "print('')\n",
        "print('='*80)\n",
        "print('PORTFOLIO WEIGHTS:')\n",
        "print('-'*80)\n",
        "print(weights_df_3)\n",
        "print('-'*80)\n",
        "\n",
        "metrics_df_3 = pd.DataFrame(data={\n",
        "    'Expected Portfolio Returns': exp_ret_3,\n",
        "    'Expected Portfolio Volatility': exp_vol_3,\n",
        "    'Portfolio Sharpe Ratio': sharpe_ratio_3\n",
        "}, index=[0])\n",
        "\n",
        "print('')\n",
        "print('='*80)\n",
        "print('PORTFOLIO METRICS:')\n",
        "print('-'*80)\n",
        "print(metrics_df_3)\n",
        "print('-'*80)"
      ],
      "metadata": {
        "colab": {
          "base_uri": "https://localhost:8080/"
        },
        "id": "UWVC6S7UaH_S",
        "outputId": "dd642727-57c6-49e5-9106-384bf84f66eb"
      },
      "execution_count": null,
      "outputs": [
        {
          "output_type": "stream",
          "name": "stdout",
          "text": [
            "\n",
            "================================================================================\n",
            "PORTFOLIO WEIGHTS:\n",
            "--------------------------------------------------------------------------------\n",
            "   random_weights  rebalance_weights\n",
            "0        0.796933           0.293481\n",
            "1        0.233442           0.085968\n",
            "2        0.355377           0.130872\n",
            "3        0.638895           0.235281\n",
            "4        0.690806           0.254398\n",
            "--------------------------------------------------------------------------------\n",
            "\n",
            "================================================================================\n",
            "PORTFOLIO METRICS:\n",
            "--------------------------------------------------------------------------------\n",
            "   Expected Portfolio Returns  Expected Portfolio Volatility  \\\n",
            "0                    2.733807                       0.637845   \n",
            "\n",
            "   Portfolio Sharpe Ratio  \n",
            "0                4.286007  \n",
            "--------------------------------------------------------------------------------\n"
          ]
        }
      ]
    },
    {
      "cell_type": "code",
      "source": [
        "num_of_portfolios = 10000\n",
        "all_weights_3 = np.zeros((num_of_portfolios, number_of_stocks_1))\n",
        "ret_arr_3 = np.zeros(num_of_portfolios)\n",
        "vol_arr_3 = np.zeros(num_of_portfolios)\n",
        "sharpe_arr_3 = np.zeros(num_of_portfolios)\n",
        "\n",
        "for ind in range(num_of_portfolios):\n",
        "    weights_3 = np.array(np.random.random(number_of_stocks_1))\n",
        "    weights_3 = weights_3 / np.sum(weights_3)\n",
        "    all_weights_3[ind, :] = weights_3\n",
        "    ret_arr_3[ind] = np.sum((log_return_3.mean() * weights_3) * (10 * 252))\n",
        "    vol_arr_3[ind] = np.sqrt(\n",
        "        np.dot(weights_3.T, np.dot(log_return_3.cov() * (10 * 252), weights_3))\n",
        "    )\n",
        "    sharpe_arr_3[ind] = ret_arr_3[ind] / vol_arr_3[ind]\n",
        "\n",
        "simulations_data_3 = [ret_arr_3, vol_arr_3, sharpe_arr_3, all_weights_3]\n",
        "\n",
        "simulations_df_3 = pd.DataFrame(data=simulations_data_3).T\n",
        "\n",
        "simulations_df_3.columns = [\n",
        "    'Returns',\n",
        "    'Volatility',\n",
        "    'Sharpe Ratio',\n",
        "    'Portfolio Weights'\n",
        "]\n",
        "\n",
        "simulations_df_3 = simulations_df_3.infer_objects()\n",
        "\n",
        "print('')\n",
        "print('='*80)\n",
        "print('SIMULATIONS RESULT:')\n",
        "print('-'*80)\n",
        "print(simulations_df_3.head())\n",
        "print('-'*80)\n",
        "\n",
        "\n"
      ],
      "metadata": {
        "colab": {
          "base_uri": "https://localhost:8080/"
        },
        "id": "JkbYT4JnaNQB",
        "outputId": "6e5f046b-be79-4f3e-c141-3da246866a72"
      },
      "execution_count": null,
      "outputs": [
        {
          "output_type": "stream",
          "name": "stdout",
          "text": [
            "\n",
            "================================================================================\n",
            "SIMULATIONS RESULT:\n",
            "--------------------------------------------------------------------------------\n",
            "    Returns  Volatility  Sharpe Ratio  \\\n",
            "0  2.627992    0.656936      4.000378   \n",
            "1  2.304757    0.559838      4.116829   \n",
            "2  2.290866    0.614145      3.730169   \n",
            "3  2.140439    0.635286      3.369252   \n",
            "4  2.557214    0.626700      4.080447   \n",
            "\n",
            "                                   Portfolio Weights  \n",
            "0  [0.17183073674530397, 0.3481560200705651, 0.07...  \n",
            "1  [0.17638285225481518, 0.20497137929658096, 0.2...  \n",
            "2  [0.043027821996371236, 0.3018138162285193, 0.1...  \n",
            "3  [0.06333174948885212, 0.1429298207485464, 0.02...  \n",
            "4  [0.20233991807311122, 0.26878963016327656, 0.0...  \n",
            "--------------------------------------------------------------------------------\n"
          ]
        }
      ]
    },
    {
      "cell_type": "code",
      "source": [
        "max_sharpe_ratio_3 = simulations_df_3.loc[simulations_df_3['Sharpe Ratio'].idxmax()]\n",
        "min_volatility_3 = simulations_df_3.loc[simulations_df_3['Volatility'].idxmin()]\n",
        "\n",
        "print('')\n",
        "print('='*80)\n",
        "print('MAX SHARPE RATIO:')\n",
        "print('-'*80)\n",
        "print(max_sharpe_ratio_3)\n",
        "print('-'*80)\n",
        "\n",
        "print('')\n",
        "print('='*80)\n",
        "print('MIN VOLATILITY:')\n",
        "print('-'*80)\n",
        "print(min_volatility_3)\n",
        "print('-'*80)\n"
      ],
      "metadata": {
        "colab": {
          "base_uri": "https://localhost:8080/"
        },
        "id": "kWjsjNp1NzcH",
        "outputId": "9c7b88f4-c5b8-4cc1-94d6-687dc3c87e9f"
      },
      "execution_count": null,
      "outputs": [
        {
          "output_type": "stream",
          "name": "stdout",
          "text": [
            "\n",
            "================================================================================\n",
            "MAX SHARPE RATIO:\n",
            "--------------------------------------------------------------------------------\n",
            "Returns                                                       2.696828\n",
            "Volatility                                                    0.622661\n",
            "Sharpe Ratio                                                  4.331134\n",
            "Portfolio Weights    [0.2771630055608119, 0.13749717311426657, 0.16...\n",
            "Name: 3275, dtype: object\n",
            "--------------------------------------------------------------------------------\n",
            "\n",
            "================================================================================\n",
            "MIN VOLATILITY:\n",
            "--------------------------------------------------------------------------------\n",
            "Returns                                                       1.970351\n",
            "Volatility                                                    0.534589\n",
            "Sharpe Ratio                                                  3.685733\n",
            "Portfolio Weights    [0.06260245840008041, 0.16379815712513812, 0.3...\n",
            "Name: 8228, dtype: object\n",
            "--------------------------------------------------------------------------------\n"
          ]
        }
      ]
    },
    {
      "cell_type": "code",
      "source": [
        "%matplotlib inline\n",
        "plt.scatter(\n",
        "    y=simulations_df_3['Returns'],\n",
        "    x=simulations_df_3['Volatility'],\n",
        "    c=simulations_df_3['Sharpe Ratio'],\n",
        "    cmap='RdYlBu'\n",
        ")\n",
        "\n",
        "plt.title('Portfolio Returns Vs. Risk')\n",
        "plt.colorbar(label='Sharpe Ratio')\n",
        "plt.xlabel('Standard Deviation')\n",
        "plt.ylabel('Returns')\n",
        "\n",
        "plt.scatter(\n",
        "    max_sharpe_ratio_3[1],\n",
        "    max_sharpe_ratio_3[0],\n",
        "    marker=(5, 1, 0),\n",
        "    color='r',\n",
        "    s=600\n",
        ")\n",
        "\n",
        "plt.scatter(\n",
        "    min_volatility_3[1],\n",
        "    min_volatility_3[0],\n",
        "    marker=(5, 1, 0),\n",
        "    color='b',\n",
        "    s=600\n",
        ")\n",
        "\n",
        "plt.show()\n"
      ],
      "metadata": {
        "colab": {
          "base_uri": "https://localhost:8080/",
          "height": 472
        },
        "id": "mVuDKHBxet89",
        "outputId": "dc71a59f-0c0b-4a24-c42c-3d53fe6bcb51"
      },
      "execution_count": null,
      "outputs": [
        {
          "output_type": "display_data",
          "data": {
            "text/plain": [
              "<Figure size 640x480 with 2 Axes>"
            ],
            "image/png": "[encoded data removed]"
          },
          "metadata": {}
        }
      ]
    },
    {
      "cell_type": "markdown",
      "source": [
        "**Comparing the performance of different portfolios under different market conditions **"
      ],
      "metadata": {
        "id": "7reBzz9xTeta"
      }
    },
    {
      "cell_type": "code",
      "source": [
        "#So, let us take the above expample of time period of 10 year and divide into 2 time periods i.e from 2013-01-01 to 2018-12-31 and from 2019-01-01 to 2022-12-31\n",
        "#We consider the time period 1 that is from 2013-01-01 to 2018-12-31 as bullish(risk free rate as 2%) and the second time period as bearish(risk free rate as 4%)\n",
        "\n",
        "for symbol in symbols_1:\n",
        "    stock_data_4 = yf.download(symbol, start=\"2013-01-01\", end=\"2018-12-31\")\n",
        "    stock_data_4.reset_index(inplace=True)\n",
        "    stock_data_4['Symbol'] = symbol\n",
        "    all_data_4 = all_data_4.append(stock_data_4, ignore_index=True)\n",
        "\n",
        "for symbol in symbols_1:\n",
        "    stock_data_5 = yf.download(symbol, start=\"2019-01-01\", end=\"2022-12-31\")\n",
        "    stock_data_5.reset_index(inplace=True)\n",
        "    stock_data_5['Symbol'] = symbol\n",
        "    all_data_5 = all_data_5.append(stock_data_5, ignore_index=True)\n"
      ],
      "metadata": {
        "colab": {
          "base_uri": "https://localhost:8080/"
        },
        "id": "0TRBSInCgVBa",
        "outputId": "41bc1f00-a7c2-403b-f204-835dfcb620b1"
      },
      "execution_count": null,
      "outputs": [
        {
          "output_type": "stream",
          "name": "stdout",
          "text": [
            "\r[*********************100%%**********************]  1 of 1 completed\n"
          ]
        },
        {
          "output_type": "stream",
          "name": "stderr",
          "text": [
            "<ipython-input-302-2ebf01230b28>:8: FutureWarning: The frame.append method is deprecated and will be removed from pandas in a future version. Use pandas.concat instead.\n",
            "  all_data_4 = all_data_4.append(stock_data_4, ignore_index=True)\n"
          ]
        },
        {
          "output_type": "stream",
          "name": "stdout",
          "text": [
            "\r[*********************100%%**********************]  1 of 1 completed\n"
          ]
        },
        {
          "output_type": "stream",
          "name": "stderr",
          "text": [
            "<ipython-input-302-2ebf01230b28>:8: FutureWarning: The frame.append method is deprecated and will be removed from pandas in a future version. Use pandas.concat instead.\n",
            "  all_data_4 = all_data_4.append(stock_data_4, ignore_index=True)\n"
          ]
        },
        {
          "output_type": "stream",
          "name": "stdout",
          "text": [
            "\r[*********************100%%**********************]  1 of 1 completed\n"
          ]
        },
        {
          "output_type": "stream",
          "name": "stderr",
          "text": [
            "<ipython-input-302-2ebf01230b28>:8: FutureWarning: The frame.append method is deprecated and will be removed from pandas in a future version. Use pandas.concat instead.\n",
            "  all_data_4 = all_data_4.append(stock_data_4, ignore_index=True)\n"
          ]
        },
        {
          "output_type": "stream",
          "name": "stdout",
          "text": [
            "\r[*********************100%%**********************]  1 of 1 completed\n"
          ]
        },
        {
          "output_type": "stream",
          "name": "stderr",
          "text": [
            "<ipython-input-302-2ebf01230b28>:8: FutureWarning: The frame.append method is deprecated and will be removed from pandas in a future version. Use pandas.concat instead.\n",
            "  all_data_4 = all_data_4.append(stock_data_4, ignore_index=True)\n"
          ]
        },
        {
          "output_type": "stream",
          "name": "stdout",
          "text": [
            "\r[*********************100%%**********************]  1 of 1 completed\n"
          ]
        },
        {
          "output_type": "stream",
          "name": "stderr",
          "text": [
            "<ipython-input-302-2ebf01230b28>:8: FutureWarning: The frame.append method is deprecated and will be removed from pandas in a future version. Use pandas.concat instead.\n",
            "  all_data_4 = all_data_4.append(stock_data_4, ignore_index=True)\n"
          ]
        },
        {
          "output_type": "stream",
          "name": "stdout",
          "text": [
            "\r[*********************100%%**********************]  1 of 1 completed\n"
          ]
        },
        {
          "output_type": "stream",
          "name": "stderr",
          "text": [
            "<ipython-input-302-2ebf01230b28>:14: FutureWarning: The frame.append method is deprecated and will be removed from pandas in a future version. Use pandas.concat instead.\n",
            "  all_data_5 = all_data_5.append(stock_data_5, ignore_index=True)\n"
          ]
        },
        {
          "output_type": "stream",
          "name": "stdout",
          "text": [
            "\r[*********************100%%**********************]  1 of 1 completed\n"
          ]
        },
        {
          "output_type": "stream",
          "name": "stderr",
          "text": [
            "<ipython-input-302-2ebf01230b28>:14: FutureWarning: The frame.append method is deprecated and will be removed from pandas in a future version. Use pandas.concat instead.\n",
            "  all_data_5 = all_data_5.append(stock_data_5, ignore_index=True)\n"
          ]
        },
        {
          "output_type": "stream",
          "name": "stdout",
          "text": [
            "\r[*********************100%%**********************]  1 of 1 completed\n"
          ]
        },
        {
          "output_type": "stream",
          "name": "stderr",
          "text": [
            "<ipython-input-302-2ebf01230b28>:14: FutureWarning: The frame.append method is deprecated and will be removed from pandas in a future version. Use pandas.concat instead.\n",
            "  all_data_5 = all_data_5.append(stock_data_5, ignore_index=True)\n"
          ]
        },
        {
          "output_type": "stream",
          "name": "stdout",
          "text": [
            "\r[*********************100%%**********************]  1 of 1 completed\n"
          ]
        },
        {
          "output_type": "stream",
          "name": "stderr",
          "text": [
            "<ipython-input-302-2ebf01230b28>:14: FutureWarning: The frame.append method is deprecated and will be removed from pandas in a future version. Use pandas.concat instead.\n",
            "  all_data_5 = all_data_5.append(stock_data_5, ignore_index=True)\n"
          ]
        },
        {
          "output_type": "stream",
          "name": "stdout",
          "text": [
            "\r[*********************100%%**********************]  1 of 1 completed\n"
          ]
        },
        {
          "output_type": "stream",
          "name": "stderr",
          "text": [
            "<ipython-input-302-2ebf01230b28>:14: FutureWarning: The frame.append method is deprecated and will be removed from pandas in a future version. Use pandas.concat instead.\n",
            "  all_data_5 = all_data_5.append(stock_data_5, ignore_index=True)\n"
          ]
        }
      ]
    },
    {
      "cell_type": "code",
      "source": [
        "print(all_data_4.head())\n",
        "print(all_data_5.head())"
      ],
      "metadata": {
        "colab": {
          "base_uri": "https://localhost:8080/"
        },
        "id": "bKUwOJZdSkpo",
        "outputId": "378e829f-2a89-4fd0-89b3-2f068c7ceffb"
      },
      "execution_count": null,
      "outputs": [
        {
          "output_type": "stream",
          "name": "stdout",
          "text": [
            "        Date       Open       High        Low      Close  Adj Close  Volume  \\\n",
            "0 2013-01-01  17.600000  17.600000  16.850000  17.120001  15.338071    5700   \n",
            "1 2013-01-02  17.549999  17.549999  16.700001  16.815001  15.064818   38740   \n",
            "2 2013-01-03  17.440001  17.440001  16.945000  16.980000  15.212643   23130   \n",
            "3 2013-01-04  17.400000  17.400000  16.910000  16.965000  15.199203   17600   \n",
            "4 2013-01-07  16.850000  17.100000  16.750000  16.790001  15.042418   73850   \n",
            "\n",
            "         Symbol  \n",
            "0  APLAPOLLO.NS  \n",
            "1  APLAPOLLO.NS  \n",
            "2  APLAPOLLO.NS  \n",
            "3  APLAPOLLO.NS  \n",
            "4  APLAPOLLO.NS  \n",
            "        Date        Open        High         Low       Close   Adj Close  \\\n",
            "0 2019-01-01  117.345001  118.900002  115.500000  117.279999  115.268013   \n",
            "1 2019-01-02  117.184998  122.900002  116.004997  120.885002  118.811165   \n",
            "2 2019-01-03  120.000000  120.500000  117.599998  118.180000  116.152580   \n",
            "3 2019-01-04  119.004997  120.004997  116.099998  118.330002  116.300003   \n",
            "4 2019-01-07  118.300003  118.800003  114.745003  115.195000  113.218781   \n",
            "\n",
            "   Volume        Symbol  \n",
            "0  112410  APLAPOLLO.NS  \n",
            "1  564120  APLAPOLLO.NS  \n",
            "2   97470  APLAPOLLO.NS  \n",
            "3   53930  APLAPOLLO.NS  \n",
            "4   74560  APLAPOLLO.NS  \n"
          ]
        }
      ]
    },
    {
      "cell_type": "code",
      "source": [
        "all_data_4 = all_data_4[['Date', 'Symbol', 'Adj Close']]\n",
        "all_data_4 = all_data_4.pivot(\n",
        "    index='Date',\n",
        "    columns='Symbol',\n",
        "    values='Adj Close'\n",
        ")\n",
        "\n",
        "all_data_5 = all_data_5[['Date', 'Symbol', 'Adj Close']]\n",
        "all_data_5 = all_data_5.pivot(\n",
        "    index='Date',\n",
        "    columns='Symbol',\n",
        "    values='Adj Close'\n",
        ")"
      ],
      "metadata": {
        "id": "v7yy84tQQ0CU"
      },
      "execution_count": null,
      "outputs": []
    },
    {
      "cell_type": "code",
      "source": [
        "log_return_4 = np.log(1 + all_data_4.pct_change())\n",
        "random_weights_4 = np.array(np.random.random(number_of_stocks_1))\n",
        "rebalance_weights_4 = random_weights_4 / np.sum(random_weights_4)\n",
        "\n",
        "# Calculate the Expected Returns, annualize it by multiplying it by the number of trading days in 5 years.\n",
        "exp_ret_4 = np.sum((log_return_4.mean() * rebalance_weights_4) * (5 * 252))\n",
        "\n",
        "# Calculate the Expected Volatility, annualize it by multiplying it by the number of trading days in 5 years.\n",
        "exp_vol_4 = np.sqrt(\n",
        "    np.dot(\n",
        "        rebalance_weights_4.T,\n",
        "        np.dot(\n",
        "            log_return_4.cov() * (5 * 252),\n",
        "            rebalance_weights_4\n",
        "        )\n",
        "    )\n",
        ")\n",
        "\n",
        "sharpe_ratio_4 = exp_ret_4-0.02 / exp_vol_4\n",
        "\n",
        "weights_df_4 = pd.DataFrame(data={\n",
        "    'random_weights': random_weights_4,\n",
        "    'rebalance_weights': rebalance_weights_4\n",
        "})\n",
        "\n",
        "print('')\n",
        "print('='*80)\n",
        "print('PORTFOLIO WEIGHTS:')\n",
        "print('-'*80)\n",
        "print(weights_df_4)\n",
        "print('-'*80)\n",
        "\n",
        "metrics_df_4 = pd.DataFrame(data={\n",
        "    'Expected Portfolio Returns': exp_ret_4,\n",
        "    'Expected Portfolio Volatility': exp_vol_4,\n",
        "    'Portfolio Sharpe Ratio': sharpe_ratio_4\n",
        "}, index=[0])\n",
        "\n",
        "print('')\n",
        "print('='*80)\n",
        "print('PORTFOLIO METRICS:')\n",
        "print('-'*80)\n",
        "print(metrics_df_4)\n",
        "print('-'*80)"
      ],
      "metadata": {
        "colab": {
          "base_uri": "https://localhost:8080/"
        },
        "id": "iolkWSmHQ4A1",
        "outputId": "33c77e18-7dd6-444f-e1fa-ad42b293e85f"
      },
      "execution_count": null,
      "outputs": [
        {
          "output_type": "stream",
          "name": "stdout",
          "text": [
            "\n",
            "================================================================================\n",
            "PORTFOLIO WEIGHTS:\n",
            "--------------------------------------------------------------------------------\n",
            "   random_weights  rebalance_weights\n",
            "0        0.051544           0.056385\n",
            "1        0.065760           0.071936\n",
            "2        0.124961           0.136697\n",
            "3        0.065068           0.071179\n",
            "4        0.606813           0.663804\n",
            "--------------------------------------------------------------------------------\n",
            "\n",
            "================================================================================\n",
            "PORTFOLIO METRICS:\n",
            "--------------------------------------------------------------------------------\n",
            "   Expected Portfolio Returns  Expected Portfolio Volatility  \\\n",
            "0                     1.60476                       0.584649   \n",
            "\n",
            "   Portfolio Sharpe Ratio  \n",
            "0                1.570551  \n",
            "--------------------------------------------------------------------------------\n"
          ]
        }
      ]
    },
    {
      "cell_type": "code",
      "source": [
        "log_return_5 = np.log(1 + all_data_5.pct_change())\n",
        "random_weights_5 = np.array(np.random.random(number_of_stocks_1))\n",
        "rebalance_weights_5 = random_weights_5 / np.sum(random_weights_5)\n",
        "\n",
        "# Calculate the Expected Returns, annualize it by multiplying it by the number of trading days in 4 years.\n",
        "exp_ret_5 = np.sum((log_return_5.mean() * rebalance_weights_5) * (4 * 252))\n",
        "\n",
        "# Calculate the Expected Volatility, annualize it by multiplying it by the number of trading days in 5 years.\n",
        "exp_vol_5 = np.sqrt(\n",
        "    np.dot(\n",
        "        rebalance_weights_5.T,\n",
        "        np.dot(\n",
        "            log_return_5.cov() * (4 * 252),\n",
        "            rebalance_weights_5\n",
        "        )\n",
        "    )\n",
        ")\n",
        "\n",
        "sharpe_ratio_5 = exp_ret_5-0.04 / exp_vol_5\n",
        "\n",
        "weights_df_5 = pd.DataFrame(data={\n",
        "    'random_weights': random_weights_5,\n",
        "    'rebalance_weights': rebalance_weights_5\n",
        "})\n",
        "\n",
        "print('')\n",
        "print('='*80)\n",
        "print('PORTFOLIO WEIGHTS:')\n",
        "print('-'*80)\n",
        "print(weights_df_5)\n",
        "print('-'*80)\n",
        "\n",
        "metrics_df_5 = pd.DataFrame(data={\n",
        "    'Expected Portfolio Returns': exp_ret_5,\n",
        "    'Expected Portfolio Volatility': exp_vol_5,\n",
        "    'Portfolio Sharpe Ratio': sharpe_ratio_5\n",
        "}, index=[0])\n",
        "\n",
        "print('')\n",
        "print('='*80)\n",
        "print('PORTFOLIO METRICS:')\n",
        "print('-'*80)\n",
        "print(metrics_df_5)\n",
        "print('-'*80)"
      ],
      "metadata": {
        "colab": {
          "base_uri": "https://localhost:8080/"
        },
        "id": "E_14AvI0UGOW",
        "outputId": "74878de4-5602-45d0-ac2c-0e5a34ecd67d"
      },
      "execution_count": null,
      "outputs": [
        {
          "output_type": "stream",
          "name": "stdout",
          "text": [
            "\n",
            "================================================================================\n",
            "PORTFOLIO WEIGHTS:\n",
            "--------------------------------------------------------------------------------\n",
            "   random_weights  rebalance_weights\n",
            "0        0.765904           0.480497\n",
            "1        0.357256           0.224128\n",
            "2        0.118853           0.074564\n",
            "3        0.245414           0.153963\n",
            "4        0.106556           0.066849\n",
            "--------------------------------------------------------------------------------\n",
            "\n",
            "================================================================================\n",
            "PORTFOLIO METRICS:\n",
            "--------------------------------------------------------------------------------\n",
            "   Expected Portfolio Returns  Expected Portfolio Volatility  \\\n",
            "0                    1.437689                       0.519599   \n",
            "\n",
            "   Portfolio Sharpe Ratio  \n",
            "0                1.360707  \n",
            "--------------------------------------------------------------------------------\n"
          ]
        }
      ]
    },
    {
      "cell_type": "code",
      "source": [
        "num_of_portfolios = 10000\n",
        "all_weights_4 = np.zeros((num_of_portfolios, number_of_stocks_1))\n",
        "ret_arr_4 = np.zeros(num_of_portfolios)\n",
        "vol_arr_4 = np.zeros(num_of_portfolios)\n",
        "sharpe_arr_4 = np.zeros(num_of_portfolios)\n",
        "\n",
        "for ind in range(num_of_portfolios):\n",
        "    weights_4 = np.array(np.random.random(number_of_stocks_1))\n",
        "    weights_4 = weights_4 / np.sum(weights_4)\n",
        "    all_weights_4[ind, :] = weights_4\n",
        "    ret_arr_4[ind] = np.sum((log_return_4.mean() * weights_4) * (5 * 252))\n",
        "    vol_arr_4[ind] = np.sqrt(\n",
        "        np.dot(weights_4.T, np.dot(log_return_4.cov() * (5 * 252), weights_4))\n",
        "    )\n",
        "    sharpe_arr_4[ind] = ret_arr_4[ind] / vol_arr_4[ind]\n",
        "\n",
        "simulations_data_4 = [ret_arr_4, vol_arr_4, sharpe_arr_4, all_weights_4]\n",
        "\n",
        "simulations_df_4 = pd.DataFrame(data=simulations_data_4).T\n",
        "\n",
        "simulations_df_4.columns = [\n",
        "    'Returns',\n",
        "    'Volatility',\n",
        "    'Sharpe Ratio',\n",
        "    'Portfolio Weights'\n",
        "]\n",
        "\n",
        "simulations_df_4 = simulations_df_4.infer_objects()\n",
        "\n",
        "print('')\n",
        "print('='*80)\n",
        "print('SIMULATIONS RESULT:')\n",
        "print('-'*80)\n",
        "print(simulations_df_4.head())\n",
        "print('-'*80)\n",
        "\n",
        "\n"
      ],
      "metadata": {
        "colab": {
          "base_uri": "https://localhost:8080/"
        },
        "id": "YmSOdZSIRoZH",
        "outputId": "3522ab19-2ea9-4eee-bf56-f870db2f0ef0"
      },
      "execution_count": null,
      "outputs": [
        {
          "output_type": "stream",
          "name": "stdout",
          "text": [
            "\n",
            "================================================================================\n",
            "SIMULATIONS RESULT:\n",
            "--------------------------------------------------------------------------------\n",
            "    Returns  Volatility  Sharpe Ratio  \\\n",
            "0  1.133846    0.355539      3.189092   \n",
            "1  1.303514    0.398567      3.270504   \n",
            "2  1.062506    0.371290      2.861664   \n",
            "3  1.090190    0.416209      2.619334   \n",
            "4  1.199380    0.406280      2.952103   \n",
            "\n",
            "                                   Portfolio Weights  \n",
            "0  [0.19124557450855667, 0.2125343480108131, 0.24...  \n",
            "1  [0.08635618498163798, 0.15407731888918555, 0.3...  \n",
            "2  [0.2062056615933268, 0.2675731171522947, 0.151...  \n",
            "3  [0.29833036023491694, 0.3367425455007115, 0.26...  \n",
            "4  [0.1194701663760323, 0.3596035073087151, 0.216...  \n",
            "--------------------------------------------------------------------------------\n"
          ]
        }
      ]
    },
    {
      "cell_type": "code",
      "source": [
        "num_of_portfolios = 10000\n",
        "all_weights_5 = np.zeros((num_of_portfolios, number_of_stocks_1))\n",
        "ret_arr_5 = np.zeros(num_of_portfolios)\n",
        "vol_arr_5 = np.zeros(num_of_portfolios)\n",
        "sharpe_arr_5 = np.zeros(num_of_portfolios)\n",
        "\n",
        "for ind in range(num_of_portfolios):\n",
        "    weights_5 = np.array(np.random.random(number_of_stocks_1))\n",
        "    weights_5 = weights_5 / np.sum(weights_5)\n",
        "    all_weights_4[ind, :] = weights_5\n",
        "    ret_arr_5[ind] = np.sum((log_return_5.mean() * weights_5) * (4 * 252))\n",
        "    vol_arr_5[ind] = np.sqrt(\n",
        "        np.dot(weights_5.T, np.dot(log_return_5.cov() * (4 * 252), weights_5))\n",
        "    )\n",
        "    sharpe_arr_5[ind] = ret_arr_5[ind] / vol_arr_5[ind]\n",
        "\n",
        "simulations_data_5 = [ret_arr_5, vol_arr_5, sharpe_arr_5, all_weights_5]\n",
        "\n",
        "simulations_df_5 = pd.DataFrame(data=simulations_data_5).T\n",
        "\n",
        "simulations_df_5.columns = [\n",
        "    'Returns',\n",
        "    'Volatility',\n",
        "    'Sharpe Ratio',\n",
        "    'Portfolio Weights'\n",
        "]\n",
        "\n",
        "simulations_df_5 = simulations_df_5.infer_objects()\n",
        "\n",
        "print('')\n",
        "print('='*80)\n",
        "print('SIMULATIONS RESULT:')\n",
        "print('-'*80)\n",
        "print(simulations_df_5.head())\n",
        "print('-'*80)\n",
        "\n",
        "\n"
      ],
      "metadata": {
        "colab": {
          "base_uri": "https://localhost:8080/"
        },
        "id": "Ztc7mhTdUijD",
        "outputId": "bb985ab0-2c21-4432-bb79-7c9d5ad347de"
      },
      "execution_count": null,
      "outputs": [
        {
          "output_type": "stream",
          "name": "stdout",
          "text": [
            "\n",
            "================================================================================\n",
            "SIMULATIONS RESULT:\n",
            "--------------------------------------------------------------------------------\n",
            "    Returns  Volatility  Sharpe Ratio          Portfolio Weights\n",
            "0  1.074056    0.437618      2.454326  [0.0, 0.0, 0.0, 0.0, 0.0]\n",
            "1  0.751806    0.403685      1.862356  [0.0, 0.0, 0.0, 0.0, 0.0]\n",
            "2  1.142573    0.435424      2.624046  [0.0, 0.0, 0.0, 0.0, 0.0]\n",
            "3  1.281782    0.479312      2.674213  [0.0, 0.0, 0.0, 0.0, 0.0]\n",
            "4  1.394465    0.514684      2.709362  [0.0, 0.0, 0.0, 0.0, 0.0]\n",
            "--------------------------------------------------------------------------------\n"
          ]
        }
      ]
    },
    {
      "cell_type": "code",
      "source": [
        "max_sharpe_ratio_4 = simulations_df_4.loc[simulations_df_4['Sharpe Ratio'].idxmax()]\n",
        "min_volatility_4 = simulations_df_4.loc[simulations_df_4['Volatility'].idxmin()]\n",
        "\n",
        "print('')\n",
        "print('='*80)\n",
        "print('MAX SHARPE RATIO:')\n",
        "print('-'*80)\n",
        "print(max_sharpe_ratio_4)\n",
        "print('-'*80)\n",
        "\n",
        "print('')\n",
        "print('='*80)\n",
        "print('MIN VOLATILITY:')\n",
        "print('-'*80)\n",
        "print(min_volatility_4)\n",
        "print('-'*80)\n"
      ],
      "metadata": {
        "colab": {
          "base_uri": "https://localhost:8080/"
        },
        "id": "ZyqfHPItRocP",
        "outputId": "be0835bb-a997-4cfd-e97c-401681035b69"
      },
      "execution_count": null,
      "outputs": [
        {
          "output_type": "stream",
          "name": "stdout",
          "text": [
            "\n",
            "================================================================================\n",
            "MAX SHARPE RATIO:\n",
            "--------------------------------------------------------------------------------\n",
            "Returns                                                       1.233078\n",
            "Volatility                                                    0.359805\n",
            "Sharpe Ratio                                                  3.427069\n",
            "Portfolio Weights    [0.10401921230859561, 0.21470524038434977, 0.2...\n",
            "Name: 783, dtype: object\n",
            "--------------------------------------------------------------------------------\n",
            "\n",
            "================================================================================\n",
            "MIN VOLATILITY:\n",
            "--------------------------------------------------------------------------------\n",
            "Returns                                                        1.02052\n",
            "Volatility                                                    0.323137\n",
            "Sharpe Ratio                                                  3.158162\n",
            "Portfolio Weights    [0.13087390796966528, 0.24011480955714556, 0.2...\n",
            "Name: 3550, dtype: object\n",
            "--------------------------------------------------------------------------------\n"
          ]
        }
      ]
    },
    {
      "cell_type": "code",
      "source": [
        "max_sharpe_ratio_5 = simulations_df_5.loc[simulations_df_5['Sharpe Ratio'].idxmax()]\n",
        "min_volatility_5 = simulations_df_5.loc[simulations_df_5['Volatility'].idxmin()]\n",
        "\n",
        "print('')\n",
        "print('='*80)\n",
        "print('MAX SHARPE RATIO:')\n",
        "print('-'*80)\n",
        "print(max_sharpe_ratio_5)\n",
        "print('-'*80)\n",
        "\n",
        "print('')\n",
        "print('='*80)\n",
        "print('MIN VOLATILITY:')\n",
        "print('-'*80)\n",
        "print(min_volatility_5)\n",
        "print('-'*80)\n"
      ],
      "metadata": {
        "colab": {
          "base_uri": "https://localhost:8080/"
        },
        "id": "zHeFYqF0U_kU",
        "outputId": "b1769445-3307-4f72-df9a-a0bc3dd1caf9"
      },
      "execution_count": null,
      "outputs": [
        {
          "output_type": "stream",
          "name": "stdout",
          "text": [
            "\n",
            "================================================================================\n",
            "MAX SHARPE RATIO:\n",
            "--------------------------------------------------------------------------------\n",
            "Returns                               1.498535\n",
            "Volatility                            0.532852\n",
            "Sharpe Ratio                          2.812291\n",
            "Portfolio Weights    [0.0, 0.0, 0.0, 0.0, 0.0]\n",
            "Name: 1061, dtype: object\n",
            "--------------------------------------------------------------------------------\n",
            "\n",
            "================================================================================\n",
            "MIN VOLATILITY:\n",
            "--------------------------------------------------------------------------------\n",
            "Returns                               0.780864\n",
            "Volatility                            0.389922\n",
            "Sharpe Ratio                          2.002617\n",
            "Portfolio Weights    [0.0, 0.0, 0.0, 0.0, 0.0]\n",
            "Name: 4070, dtype: object\n",
            "--------------------------------------------------------------------------------\n"
          ]
        }
      ]
    },
    {
      "cell_type": "code",
      "source": [],
      "metadata": {
        "id": "YnwzAFX7RofP"
      },
      "execution_count": null,
      "outputs": []
    },
    {
      "cell_type": "code",
      "source": [
        "#Compare and contrast the performance of different portfolios under various market conditions.\n",
        "nifty50_symbol = \"^NSEI\"\n",
        "nifty50_data = yf.download(nifty50_symbol, start=\"2017-01-01\", end=\"2017-12-31\")\n",
        "nifty50_adj_close = nifty50_data[\"Adj Close\"]\n",
        "nifty50_adj_close"
      ],
      "metadata": {
        "colab": {
          "base_uri": "https://localhost:8080/"
        },
        "id": "Kc9Rq76DgFsB",
        "outputId": "0e44ac45-8436-4cca-e47b-2b83070caeb6"
      },
      "execution_count": null,
      "outputs": [
        {
          "output_type": "stream",
          "name": "stdout",
          "text": [
            "\r[*********************100%%**********************]  1 of 1 completed\n"
          ]
        },
        {
          "output_type": "execute_result",
          "data": {
            "text/plain": [
              "Date\n",
              "2017-01-02     8179.500000\n",
              "2017-01-03     8192.250000\n",
              "2017-01-04     8190.500000\n",
              "2017-01-05     8273.799805\n",
              "2017-01-06     8243.799805\n",
              "                  ...     \n",
              "2017-12-22    10493.000000\n",
              "2017-12-26    10531.500000\n",
              "2017-12-27    10490.750000\n",
              "2017-12-28    10477.900391\n",
              "2017-12-29    10530.700195\n",
              "Name: Adj Close, Length: 248, dtype: float64"
            ]
          },
          "metadata": {},
          "execution_count": 311
        }
      ]
    },
    {
      "cell_type": "code",
      "source": [
        "# Calculate the daily returns as a percentage\n",
        "nifty50_data[\"Returns\"] = nifty50_data[\"Adj Close\"].pct_change() * 100\n",
        "\n",
        "# Create a line graph for expected returns\n",
        "plt.figure(figsize=(12, 6))  # Optional: Adjust the figure size\n",
        "\n",
        "# Plot the expected returns\n",
        "plt.plot(nifty50_data.index, nifty50_data[\"Returns\"], color=\"blue\", label=\"Expected Returns\")\n",
        "plt.xlabel(\"Date\")\n",
        "plt.ylabel(\"Expected Returns (%)\")\n",
        "plt.title(\"To determint the bullish and bearish market trends\")\n",
        "plt.legend()\n",
        "plt.grid(True)\n",
        "\n",
        "# Rotate x-axis labels for better readability (optional)\n",
        "plt.xticks(rotation=45)\n",
        "\n",
        "# Show the plot\n",
        "plt.tight_layout()  # Adjust layout for better appearance\n",
        "plt.show()"
      ],
      "metadata": {
        "colab": {
          "base_uri": "https://localhost:8080/",
          "height": 607
        },
        "id": "zIzLZepb7YEg",
        "outputId": "14d2ec35-8313-4a1d-a7a7-7365eb6e4f8e"
      },
      "execution_count": null,
      "outputs": [
        {
          "output_type": "display_data",
          "data": {
            "text/plain": [
              "<Figure size 1200x600 with 1 Axes>"
            ],
            "image/png": "[encoded data removed]"
          },
          "metadata": {}
        }
      ]
    },
    {
      "cell_type": "markdown",
      "source": [
        "**Defining Risk Appetite for the time period of 1 year**\n",
        "\n",
        "\n"
      ],
      "metadata": {
        "id": "MayvalRObIqa"
      }
    },
    {
      "cell_type": "code",
      "source": [
        "#1 stimulation before monte carlo stimulation\n",
        "# Calculate the Log of returns\n",
        "#pct.change=The formula used is: (current_element - prior_element) / prior_element * 100.\n",
        "log_return = np.log(1 + all_data_1.pct_change())\n",
        "\n",
        "# Generating Random Weights\n",
        "random_weights = np.array(np.random.random(number_of_stocks))\n",
        "\n",
        "# Generate the Rebalance Weights as the sum must equal 1.\n",
        "rebalance_weights = random_weights / np.sum(random_weights)\n",
        "\n",
        "\n",
        "#1 stimulation before monte carlo stimulation\n",
        "\n",
        "# Calculate the Expected Returns, annualize it by multiplying it by 252(We have multiplied by 252 to convert daily returns to annual returns).\n",
        "exp_ret = np.sum((log_return.mean() * rebalance_weights) * 252)\n",
        "\n",
        "# Calculate the Expected Volatility, annualize it by multiplying it by `252`.\n",
        "#this code calculates the expected volatility of a portfolio by taking into account the covariance of asset returns and the weights of assets in the portfolio. It is a common calculation used in portfolio management and risk analysis to estimate how much the portfolio's returns are expected to fluctuate over time.\n",
        "exp_vol = np.sqrt(\n",
        "np.dot(\n",
        "    rebalance_weights.T,\n",
        "    np.dot(\n",
        "        log_return.cov() * 252,\n",
        "        rebalance_weights\n",
        "    )\n",
        ")\n",
        ")\n",
        "\n",
        "# Calculate the Sharpe Ratio.\n",
        "sharpe_ratio = exp_ret / exp_vol\n",
        "\n",
        "# Put the weights into a data frame to see them better.\n",
        "weights_df = pd.DataFrame(data={\n",
        "'random_weights': random_weights,\n",
        "'rebalance_weights': rebalance_weights\n",
        "})\n",
        "print('')\n",
        "print('='*80)\n",
        "print('PORTFOLIO WEIGHTS:')\n",
        "print('-'*80)\n",
        "print(weights_df)\n",
        "print('-'*80)\n",
        "\n",
        "# Do the same with the other metrics.\n",
        "metrics_df = pd.DataFrame(data={\n",
        "    'Expected Portfolio Returns': exp_ret,\n",
        "    'Expected Portfolio Volatility': exp_vol,\n",
        "    'Portfolio Sharpe Ratio': sharpe_ratio\n",
        "}, index=[0])\n",
        "\n",
        "print('')\n",
        "print('='*80)\n",
        "print('PORTFOLIO METRICS:')\n",
        "print('-'*80)\n",
        "print(metrics_df)\n",
        "print('-'*80)\n"
      ],
      "metadata": {
        "colab": {
          "base_uri": "https://localhost:8080/"
        },
        "id": "rk5C3quJghIF",
        "outputId": "3db747b6-15bf-4261-ab45-8d30798361d7"
      },
      "execution_count": null,
      "outputs": [
        {
          "output_type": "stream",
          "name": "stdout",
          "text": [
            "\n",
            "================================================================================\n",
            "PORTFOLIO WEIGHTS:\n",
            "--------------------------------------------------------------------------------\n",
            "   random_weights  rebalance_weights\n",
            "0        0.708859           0.195630\n",
            "1        0.177741           0.049053\n",
            "2        0.498673           0.137623\n",
            "3        0.863839           0.238401\n",
            "4        0.066375           0.018318\n",
            "5        0.628430           0.173433\n",
            "6        0.679553           0.187542\n",
            "--------------------------------------------------------------------------------\n",
            "\n",
            "================================================================================\n",
            "PORTFOLIO METRICS:\n",
            "--------------------------------------------------------------------------------\n",
            "   Expected Portfolio Returns  Expected Portfolio Volatility  \\\n",
            "0                    0.432604                       0.119301   \n",
            "\n",
            "   Portfolio Sharpe Ratio  \n",
            "0                3.626156  \n",
            "--------------------------------------------------------------------------------\n"
          ]
        }
      ]
    },
    {
      "cell_type": "code",
      "source": [
        "# Initialize the components, to run a Monte Carlo Simulation.\n",
        "\n",
        "# We will run 10000 iterations.\n",
        "num_of_portfolios = 10000\n",
        "\n",
        "# Prepare an array to store the weights as they are generated, 10000 iterations for each of our 7 symbols.\n",
        "all_weights = np.zeros((num_of_portfolios, number_of_stocks))\n",
        "\n",
        "# Prep an array to store the returns as they are generated(10000 possible return values).\n",
        "ret_arr = np.zeros(num_of_portfolios)\n",
        "\n",
        "# Prep an array to store the volatilities as they are generated(10000 possible volatility values).\n",
        "vol_arr = np.zeros(num_of_portfolios)\n",
        "\n",
        "# Prep an array to store the sharpe ratios as they are generated(10000 possible Sharpe Ratios).\n",
        "sharpe_arr = np.zeros(num_of_portfolios)\n",
        "\n",
        "# Start the simulations.\n",
        "for ind in range(num_of_portfolios):\n",
        "\n",
        "    # First, calculate the weights.\n",
        "    weights = np.array(np.random.random(number_of_stocks))\n",
        "    weights = weights / np.sum(weights)\n",
        "\n",
        "    # Add the weights, to the `weights_arrays`.\n",
        "    all_weights[ind, :] = weights\n",
        "\n",
        "    # Calculate the expected log returns, and add them to the `returns_array`.\n",
        "    ret_arr[ind] = np.sum((log_return.mean() * weights) * 252)\n",
        "\n",
        "    # Calculate the volatility, and add them to the `volatility_array`.\n",
        "    vol_arr[ind] = np.sqrt(\n",
        "        np.dot(weights.T, np.dot(log_return.cov() * 252, weights))\n",
        "    )\n",
        "\n",
        "\n",
        "    # Calculate the Sharpe Ratio and Add it to the `sharpe_ratio_array`.\n",
        "    sharpe_arr[ind] = ret_arr[ind]/vol_arr[ind]\n",
        "# making the vol_arr in increasing order\n",
        "\n",
        "vol_arr_sorted= np.sort(vol_arr)\n",
        "\n",
        "\n",
        "vol_arr_sorted_part1=vol_arr_sorted[0:3332]\n",
        "vol_arr_sorted_part2=vol_arr_sorted[3333:6665]\n",
        "vol_arr_sorted_part3=vol_arr_sorted[6666:]\n",
        "\n",
        "\n",
        "\n",
        "\n",
        "# Let's create our \"Master Data Frame\", with the weights, the returns, the volatility, and the Sharpe Ratio\n",
        "simulations_data = [ret_arr, vol_arr, sharpe_arr, all_weights]\n",
        "\n",
        "# Create a DataFrame from it, then Transpose it so it looks like our original one.\n",
        "simulations_df = pd.DataFrame(data=simulations_data).T\n",
        "\n",
        "# Volatility is same as Standard Deviation\n",
        "simulations_df.columns = [\n",
        "    'Returns',\n",
        "    'Volatility',\n",
        "    'Sharpe Ratio',\n",
        "    'Portfolio Weights'\n",
        "]\n",
        "\n",
        "#To Make sure the data types are correct\n",
        "simulations_df = simulations_df.infer_objects()\n",
        "\n",
        "# Print out the results.\n",
        "print('')\n",
        "print('='*80)\n",
        "print('SIMULATIONS RESULT:')\n",
        "print('-'*80)\n",
        "print(simulations_df.head())\n",
        "print('-'*80)\n",
        "\n",
        "print(vol_arr_sorted_part1)\n",
        "print(vol_arr_sorted_part2)\n",
        "print(vol_arr_sorted_part3)"
      ],
      "metadata": {
        "id": "Ri7S4Hp9gsJY",
        "colab": {
          "base_uri": "https://localhost:8080/"
        },
        "outputId": "df9aa1ae-1cb0-4057-f1c7-f30a343720cc"
      },
      "execution_count": null,
      "outputs": [
        {
          "output_type": "stream",
          "name": "stdout",
          "text": [
            "\n",
            "================================================================================\n",
            "SIMULATIONS RESULT:\n",
            "--------------------------------------------------------------------------------\n",
            "    Returns  Volatility  Sharpe Ratio  \\\n",
            "0  0.320874    0.132669      2.418601   \n",
            "1  0.203271    0.146072      1.391576   \n",
            "2  0.444631    0.168076      2.645421   \n",
            "3  0.347760    0.145663      2.387424   \n",
            "4  0.318721    0.112021      2.845187   \n",
            "\n",
            "                                   Portfolio Weights  \n",
            "0  [0.18617358218735966, 0.20512662369196955, 0.1...  \n",
            "1  [0.003346961184847244, 0.2172432035086891, 0.0...  \n",
            "2  [0.11984324115173384, 0.1792006529720281, 0.05...  \n",
            "3  [0.1802903896105159, 0.18532069730100045, 0.01...  \n",
            "4  [0.09305663260105242, 0.084531969836858, 0.240...  \n",
            "--------------------------------------------------------------------------------\n",
            "[0.09401061 0.09403879 0.09444157 ... 0.12336897 0.12337019 0.12337304]\n",
            "[0.12340149 0.12340309 0.12340405 ... 0.13831985 0.13832779 0.1383447 ]\n",
            "[0.13835064 0.13835425 0.13835509 ... 0.2409197  0.24156256 0.25816224]\n"
          ]
        }
      ]
    },
    {
      "cell_type": "code",
      "source": [
        "vol_ret_mapping = {volatility: returns for volatility, returns in zip(vol_arr, ret_arr)}\n",
        "vol_ret_mapping_sorted = {k: v for k, v in sorted(vol_ret_mapping.items())}\n",
        "\n",
        "# Convert the sorted mapping to two separate arrays for volatility and returns\n",
        "sorted_volatility = np.array(list(vol_ret_mapping_sorted.keys()))\n",
        "sorted_returns = np.array(list(vol_ret_mapping_sorted.values()))\n",
        "\n",
        "# Create a DataFrame for the sorted data\n",
        "sorted_df = pd.DataFrame({'Volatility': sorted_volatility, 'Returns': sorted_returns})\n",
        "\n",
        "# Print out the sorted DataFrame\n",
        "print('\\nSorted Data:')\n",
        "print('-' * 80)\n",
        "print(sorted_df)\n",
        "print('-' * 80)"
      ],
      "metadata": {
        "id": "qJv-j6Owg2M_",
        "colab": {
          "base_uri": "https://localhost:8080/"
        },
        "outputId": "e2cc1f7c-0785-4849-eb95-52f0c3f2494a"
      },
      "execution_count": null,
      "outputs": [
        {
          "output_type": "stream",
          "name": "stdout",
          "text": [
            "\n",
            "Sorted Data:\n",
            "--------------------------------------------------------------------------------\n",
            "      Volatility   Returns\n",
            "0       0.094011  0.322755\n",
            "1       0.094039  0.296716\n",
            "2       0.094442  0.313291\n",
            "3       0.094672  0.275256\n",
            "4       0.094706  0.320009\n",
            "...          ...       ...\n",
            "9995    0.238772  0.395656\n",
            "9996    0.239902  0.265312\n",
            "9997    0.240920  0.347205\n",
            "9998    0.241563  0.386279\n",
            "9999    0.258162  0.267268\n",
            "\n",
            "[10000 rows x 2 columns]\n",
            "--------------------------------------------------------------------------------\n"
          ]
        }
      ]
    },
    {
      "cell_type": "code",
      "source": [
        "num_parts = 3\n",
        "sorted_volatility_parts = np.array_split(sorted_volatility, num_parts)\n",
        "sorted_returns_parts = np.array_split(sorted_returns, num_parts)\n",
        "\n",
        "# Create DataFrames for each part\n",
        "part_data = []\n",
        "for i in range(num_parts):\n",
        "    part_df = pd.DataFrame({'Volatility': sorted_volatility_parts[i], 'Returns': sorted_returns_parts[i]})\n",
        "    part_data.append(part_df)\n",
        "\n",
        "# Print out the divided parts\n",
        "print('\\nDivided Parts:')\n",
        "print('-' * 80)\n",
        "for i, part_df in enumerate(part_data):\n",
        "    print(f'Part {i + 1}:')\n",
        "    print(part_df)\n",
        "    print('-' * 80)"
      ],
      "metadata": {
        "id": "UzqYZ-4mg9HY",
        "colab": {
          "base_uri": "https://localhost:8080/"
        },
        "outputId": "ccf22d95-f603-4396-b9d4-7e4797c4dcb8"
      },
      "execution_count": null,
      "outputs": [
        {
          "output_type": "stream",
          "name": "stdout",
          "text": [
            "\n",
            "Divided Parts:\n",
            "--------------------------------------------------------------------------------\n",
            "Part 1:\n",
            "      Volatility   Returns\n",
            "0       0.094011  0.322755\n",
            "1       0.094039  0.296716\n",
            "2       0.094442  0.313291\n",
            "3       0.094672  0.275256\n",
            "4       0.094706  0.320009\n",
            "...          ...       ...\n",
            "3329    0.123369  0.328012\n",
            "3330    0.123370  0.367331\n",
            "3331    0.123373  0.302016\n",
            "3332    0.123394  0.244437\n",
            "3333    0.123401  0.330735\n",
            "\n",
            "[3334 rows x 2 columns]\n",
            "--------------------------------------------------------------------------------\n",
            "Part 2:\n",
            "      Volatility   Returns\n",
            "0       0.123403  0.355434\n",
            "1       0.123404  0.396411\n",
            "2       0.123417  0.314124\n",
            "3       0.123420  0.336236\n",
            "4       0.123423  0.342965\n",
            "...          ...       ...\n",
            "3328    0.138320  0.451664\n",
            "3329    0.138328  0.327495\n",
            "3330    0.138345  0.337620\n",
            "3331    0.138346  0.403972\n",
            "3332    0.138351  0.482031\n",
            "\n",
            "[3333 rows x 2 columns]\n",
            "--------------------------------------------------------------------------------\n",
            "Part 3:\n",
            "      Volatility   Returns\n",
            "0       0.138354  0.426107\n",
            "1       0.138355  0.275434\n",
            "2       0.138356  0.302343\n",
            "3       0.138357  0.304762\n",
            "4       0.138367  0.447492\n",
            "...          ...       ...\n",
            "3328    0.238772  0.395656\n",
            "3329    0.239902  0.265312\n",
            "3330    0.240920  0.347205\n",
            "3331    0.241563  0.386279\n",
            "3332    0.258162  0.267268\n",
            "\n",
            "[3333 rows x 2 columns]\n",
            "--------------------------------------------------------------------------------\n"
          ]
        }
      ]
    },
    {
      "cell_type": "code",
      "source": [
        "#low risk\n",
        "first_part_df = part_data[0]\n",
        "sum_volatility_1st_part = first_part_df['Volatility'].sum()\n",
        "sum_returns_1st_part = first_part_df['Returns'].sum()\n",
        "\n",
        "# Calculate the Sharpe ratio for the 1st part\n",
        "sharpe_ratio_1st_part = sum_returns_1st_part / sum_volatility_1st_part\n",
        "\n",
        "# Print the results\n",
        "print('\\n1st Part Statistics:')\n",
        "print('-' * 80)\n",
        "print(f'Sum of Volatility (1st Part): {sum_volatility_1st_part}')\n",
        "print(f'Sum of Returns (1st Part): {sum_returns_1st_part}')\n",
        "print(f'Sharpe Ratio (1st Part): {sharpe_ratio_1st_part}')\n",
        "print('-' * 80)"
      ],
      "metadata": {
        "id": "ddXVBx7lg98j",
        "colab": {
          "base_uri": "https://localhost:8080/"
        },
        "outputId": "8cdcbeed-aef2-4105-c76d-053a49a6e9d2"
      },
      "execution_count": null,
      "outputs": [
        {
          "output_type": "stream",
          "name": "stdout",
          "text": [
            "\n",
            "1st Part Statistics:\n",
            "--------------------------------------------------------------------------------\n",
            "Sum of Volatility (1st Part): 381.9084069128413\n",
            "Sum of Returns (1st Part): 1125.46243376103\n",
            "Sharpe Ratio (1st Part): 2.9469433335042603\n",
            "--------------------------------------------------------------------------------\n"
          ]
        }
      ]
    },
    {
      "cell_type": "code",
      "source": [
        "#moderate risk\n",
        "second_part_df = part_data[1]\n",
        "sum_volatility_2nd_part = second_part_df['Volatility'].sum()\n",
        "sum_returns_2nd_part = second_part_df['Returns'].sum()\n",
        "\n",
        "# Calculate the Sharpe ratio for the 1st part\n",
        "sharpe_ratio_2nd_part = sum_returns_2nd_part / sum_volatility_2nd_part\n",
        "\n",
        "# Print the results\n",
        "print('\\n2st Part Statistics:')\n",
        "print('-' * 80)\n",
        "print(f'Sum of Volatility (2nd Part): {sum_volatility_2nd_part}')\n",
        "print(f'Sum of Returns (2nd Part): {sum_returns_2nd_part}')\n",
        "print(f'Sharpe Ratio (2nd Part): {sharpe_ratio_2nd_part}')\n",
        "print('-' * 80)"
      ],
      "metadata": {
        "id": "m8vG5WrDhB5l",
        "colab": {
          "base_uri": "https://localhost:8080/"
        },
        "outputId": "62db2427-587b-4bee-a00a-93c79f9d1658"
      },
      "execution_count": null,
      "outputs": [
        {
          "output_type": "stream",
          "name": "stdout",
          "text": [
            "\n",
            "2st Part Statistics:\n",
            "--------------------------------------------------------------------------------\n",
            "Sum of Volatility (2nd Part): 435.29165904405113\n",
            "Sum of Returns (2nd Part): 1207.2016213097697\n",
            "Sharpe Ratio (2nd Part): 2.773316686014427\n",
            "--------------------------------------------------------------------------------\n"
          ]
        }
      ]
    },
    {
      "cell_type": "code",
      "source": [
        "#high risk\n",
        "third_part_df = part_data[2]\n",
        "sum_volatility_3rd_part = third_part_df['Volatility'].sum()\n",
        "sum_returns_3rd_part = third_part_df['Returns'].sum()\n",
        "\n",
        "# Calculate the Sharpe ratio for the 1st part\n",
        "sharpe_ratio_3rd_part = sum_returns_3rd_part / sum_volatility_3rd_part\n",
        "\n",
        "# Print the results\n",
        "print('\\n3rd Part Statistics:')\n",
        "print('-' * 80)\n",
        "print(f'Sum of Volatility (3rd Part): {sum_volatility_3rd_part}')\n",
        "print(f'Sum of Returns (3rd Part): {sum_returns_3rd_part}')\n",
        "print(f'Sharpe Ratio (3rd Part): {sharpe_ratio_3rd_part}')\n",
        "print('-' * 80)"
      ],
      "metadata": {
        "id": "271179orhFBT",
        "colab": {
          "base_uri": "https://localhost:8080/"
        },
        "outputId": "728e64b5-65f5-4aa2-f8c0-92585f86ef8f"
      },
      "execution_count": null,
      "outputs": [
        {
          "output_type": "stream",
          "name": "stdout",
          "text": [
            "\n",
            "3rd Part Statistics:\n",
            "--------------------------------------------------------------------------------\n",
            "Sum of Volatility (3rd Part): 509.6783286462454\n",
            "Sum of Returns (3rd Part): 1249.223007257864\n",
            "Sharpe Ratio (3rd Part): 2.451002793420549\n",
            "--------------------------------------------------------------------------------\n"
          ]
        }
      ]
    },
    {
      "cell_type": "code",
      "source": [],
      "metadata": {
        "id": "vrA0q3Sokwxx"
      },
      "execution_count": null,
      "outputs": []
    }
  ]
}